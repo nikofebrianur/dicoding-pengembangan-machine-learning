{
  "nbformat": 4,
  "nbformat_minor": 0,
  "metadata": {
    "colab": {
      "provenance": []
    },
    "kernelspec": {
      "name": "python3",
      "display_name": "Python 3"
    },
    "language_info": {
      "name": "python"
    },
    "accelerator": "GPU",
    "gpuClass": "standard"
  },
  "cells": [
    {
      "cell_type": "code",
      "execution_count": 3,
      "metadata": {
        "id": "f0wH6vyrKFMM"
      },
      "outputs": [],
      "source": [
        "# install kaggle package\n",
        "!pip install -q kaggle"
      ]
    },
    {
      "cell_type": "code",
      "source": [
        "# upload kaggle.json\n",
        "from google.colab import files\n",
        "files.upload()"
      ],
      "metadata": {
        "colab": {
          "base_uri": "https://localhost:8080/",
          "height": 90
        },
        "id": "F0mD3j-hKJje",
        "outputId": "44e46ab2-5e6e-49df-a677-9a66db2cc2ea"
      },
      "execution_count": 2,
      "outputs": [
        {
          "output_type": "display_data",
          "data": {
            "text/plain": [
              "<IPython.core.display.HTML object>"
            ],
            "text/html": [
              "\n",
              "     <input type=\"file\" id=\"files-04e6e8d0-27e6-4f5b-a5fb-32f167203a8d\" name=\"files[]\" multiple disabled\n",
              "        style=\"border:none\" />\n",
              "     <output id=\"result-04e6e8d0-27e6-4f5b-a5fb-32f167203a8d\">\n",
              "      Upload widget is only available when the cell has been executed in the\n",
              "      current browser session. Please rerun this cell to enable.\n",
              "      </output>\n",
              "      <script>// Copyright 2017 Google LLC\n",
              "//\n",
              "// Licensed under the Apache License, Version 2.0 (the \"License\");\n",
              "// you may not use this file except in compliance with the License.\n",
              "// You may obtain a copy of the License at\n",
              "//\n",
              "//      http://www.apache.org/licenses/LICENSE-2.0\n",
              "//\n",
              "// Unless required by applicable law or agreed to in writing, software\n",
              "// distributed under the License is distributed on an \"AS IS\" BASIS,\n",
              "// WITHOUT WARRANTIES OR CONDITIONS OF ANY KIND, either express or implied.\n",
              "// See the License for the specific language governing permissions and\n",
              "// limitations under the License.\n",
              "\n",
              "/**\n",
              " * @fileoverview Helpers for google.colab Python module.\n",
              " */\n",
              "(function(scope) {\n",
              "function span(text, styleAttributes = {}) {\n",
              "  const element = document.createElement('span');\n",
              "  element.textContent = text;\n",
              "  for (const key of Object.keys(styleAttributes)) {\n",
              "    element.style[key] = styleAttributes[key];\n",
              "  }\n",
              "  return element;\n",
              "}\n",
              "\n",
              "// Max number of bytes which will be uploaded at a time.\n",
              "const MAX_PAYLOAD_SIZE = 100 * 1024;\n",
              "\n",
              "function _uploadFiles(inputId, outputId) {\n",
              "  const steps = uploadFilesStep(inputId, outputId);\n",
              "  const outputElement = document.getElementById(outputId);\n",
              "  // Cache steps on the outputElement to make it available for the next call\n",
              "  // to uploadFilesContinue from Python.\n",
              "  outputElement.steps = steps;\n",
              "\n",
              "  return _uploadFilesContinue(outputId);\n",
              "}\n",
              "\n",
              "// This is roughly an async generator (not supported in the browser yet),\n",
              "// where there are multiple asynchronous steps and the Python side is going\n",
              "// to poll for completion of each step.\n",
              "// This uses a Promise to block the python side on completion of each step,\n",
              "// then passes the result of the previous step as the input to the next step.\n",
              "function _uploadFilesContinue(outputId) {\n",
              "  const outputElement = document.getElementById(outputId);\n",
              "  const steps = outputElement.steps;\n",
              "\n",
              "  const next = steps.next(outputElement.lastPromiseValue);\n",
              "  return Promise.resolve(next.value.promise).then((value) => {\n",
              "    // Cache the last promise value to make it available to the next\n",
              "    // step of the generator.\n",
              "    outputElement.lastPromiseValue = value;\n",
              "    return next.value.response;\n",
              "  });\n",
              "}\n",
              "\n",
              "/**\n",
              " * Generator function which is called between each async step of the upload\n",
              " * process.\n",
              " * @param {string} inputId Element ID of the input file picker element.\n",
              " * @param {string} outputId Element ID of the output display.\n",
              " * @return {!Iterable<!Object>} Iterable of next steps.\n",
              " */\n",
              "function* uploadFilesStep(inputId, outputId) {\n",
              "  const inputElement = document.getElementById(inputId);\n",
              "  inputElement.disabled = false;\n",
              "\n",
              "  const outputElement = document.getElementById(outputId);\n",
              "  outputElement.innerHTML = '';\n",
              "\n",
              "  const pickedPromise = new Promise((resolve) => {\n",
              "    inputElement.addEventListener('change', (e) => {\n",
              "      resolve(e.target.files);\n",
              "    });\n",
              "  });\n",
              "\n",
              "  const cancel = document.createElement('button');\n",
              "  inputElement.parentElement.appendChild(cancel);\n",
              "  cancel.textContent = 'Cancel upload';\n",
              "  const cancelPromise = new Promise((resolve) => {\n",
              "    cancel.onclick = () => {\n",
              "      resolve(null);\n",
              "    };\n",
              "  });\n",
              "\n",
              "  // Wait for the user to pick the files.\n",
              "  const files = yield {\n",
              "    promise: Promise.race([pickedPromise, cancelPromise]),\n",
              "    response: {\n",
              "      action: 'starting',\n",
              "    }\n",
              "  };\n",
              "\n",
              "  cancel.remove();\n",
              "\n",
              "  // Disable the input element since further picks are not allowed.\n",
              "  inputElement.disabled = true;\n",
              "\n",
              "  if (!files) {\n",
              "    return {\n",
              "      response: {\n",
              "        action: 'complete',\n",
              "      }\n",
              "    };\n",
              "  }\n",
              "\n",
              "  for (const file of files) {\n",
              "    const li = document.createElement('li');\n",
              "    li.append(span(file.name, {fontWeight: 'bold'}));\n",
              "    li.append(span(\n",
              "        `(${file.type || 'n/a'}) - ${file.size} bytes, ` +\n",
              "        `last modified: ${\n",
              "            file.lastModifiedDate ? file.lastModifiedDate.toLocaleDateString() :\n",
              "                                    'n/a'} - `));\n",
              "    const percent = span('0% done');\n",
              "    li.appendChild(percent);\n",
              "\n",
              "    outputElement.appendChild(li);\n",
              "\n",
              "    const fileDataPromise = new Promise((resolve) => {\n",
              "      const reader = new FileReader();\n",
              "      reader.onload = (e) => {\n",
              "        resolve(e.target.result);\n",
              "      };\n",
              "      reader.readAsArrayBuffer(file);\n",
              "    });\n",
              "    // Wait for the data to be ready.\n",
              "    let fileData = yield {\n",
              "      promise: fileDataPromise,\n",
              "      response: {\n",
              "        action: 'continue',\n",
              "      }\n",
              "    };\n",
              "\n",
              "    // Use a chunked sending to avoid message size limits. See b/62115660.\n",
              "    let position = 0;\n",
              "    do {\n",
              "      const length = Math.min(fileData.byteLength - position, MAX_PAYLOAD_SIZE);\n",
              "      const chunk = new Uint8Array(fileData, position, length);\n",
              "      position += length;\n",
              "\n",
              "      const base64 = btoa(String.fromCharCode.apply(null, chunk));\n",
              "      yield {\n",
              "        response: {\n",
              "          action: 'append',\n",
              "          file: file.name,\n",
              "          data: base64,\n",
              "        },\n",
              "      };\n",
              "\n",
              "      let percentDone = fileData.byteLength === 0 ?\n",
              "          100 :\n",
              "          Math.round((position / fileData.byteLength) * 100);\n",
              "      percent.textContent = `${percentDone}% done`;\n",
              "\n",
              "    } while (position < fileData.byteLength);\n",
              "  }\n",
              "\n",
              "  // All done.\n",
              "  yield {\n",
              "    response: {\n",
              "      action: 'complete',\n",
              "    }\n",
              "  };\n",
              "}\n",
              "\n",
              "scope.google = scope.google || {};\n",
              "scope.google.colab = scope.google.colab || {};\n",
              "scope.google.colab._files = {\n",
              "  _uploadFiles,\n",
              "  _uploadFilesContinue,\n",
              "};\n",
              "})(self);\n",
              "</script> "
            ]
          },
          "metadata": {}
        },
        {
          "output_type": "stream",
          "name": "stdout",
          "text": [
            "Saving kaggle.json to kaggle.json\n"
          ]
        },
        {
          "output_type": "execute_result",
          "data": {
            "text/plain": [
              "{'kaggle.json': b'{\"username\":\"nikofebrianur\",\"key\":\"810ec23d2854ccf178bc5381ff137e66\"}'}"
            ]
          },
          "metadata": {},
          "execution_count": 2
        }
      ]
    },
    {
      "cell_type": "code",
      "source": [
        "# make directory and change permission\n",
        "!mkdir -p ~/.kaggle\n",
        "!cp kaggle.json ~/.kaggle/\n",
        "!chmod 600 ~/.kaggle/kaggle.json\n",
        "!ls ~/.kaggle"
      ],
      "metadata": {
        "colab": {
          "base_uri": "https://localhost:8080/"
        },
        "id": "I5K4_Dg5K-6d",
        "outputId": "3b466e15-0eab-4b0c-fd5b-a2513732088b"
      },
      "execution_count": 4,
      "outputs": [
        {
          "output_type": "stream",
          "name": "stdout",
          "text": [
            "kaggle.json\n"
          ]
        }
      ]
    },
    {
      "cell_type": "code",
      "source": [
        "# test kaggle dataset list\n",
        "!kaggle datasets list"
      ],
      "metadata": {
        "colab": {
          "base_uri": "https://localhost:8080/"
        },
        "id": "W2FfVPe_NTwa",
        "outputId": "96935143-962e-40e1-e6f6-09eef19a6b08"
      },
      "execution_count": 5,
      "outputs": [
        {
          "output_type": "stream",
          "name": "stdout",
          "text": [
            "ref                                                            title                                                size  lastUpdated          downloadCount  voteCount  usabilityRating  \n",
            "-------------------------------------------------------------  --------------------------------------------------  -----  -------------------  -------------  ---------  ---------------  \n",
            "akshaydattatraykhare/diabetes-dataset                          Diabetes Dataset                                      9KB  2022-10-06 08:55:25          15989        466  1.0              \n",
            "akshaydattatraykhare/data-for-admission-in-the-university      Data for Admission in the University                  4KB  2022-10-27 11:05:45           4049         90  1.0              \n",
            "thedevastator/jobs-dataset-from-glassdoor                      Salary Prediction                                     3MB  2022-11-16 13:52:31            620         24  1.0              \n",
            "swaptr/layoffs-2022                                            Layoffs 2022                                         30KB  2022-11-20 18:05:26           1227         40  1.0              \n",
            "meirnizri/covid19-dataset                                      COVID-19 Dataset                                      5MB  2022-11-13 15:47:17           1133         33  1.0              \n",
            "dheerajmukati/india-gdp-19602022                               India GDP 1960-2022                                   1KB  2022-11-11 12:08:46            625         25  1.0              \n",
            "whenamancodes/predict-diabities                                Predict Diabetes                                      9KB  2022-11-09 12:18:49           1831         41  1.0              \n",
            "elmoallistair/fertility-rate-19602020                          Fertility Rate (1960-2020)                           19KB  2022-11-17 01:31:16            346         23  0.9117647        \n",
            "zvr842/global-pollution-by-counties                            Global pollution by counties                         15KB  2022-11-14 10:57:31            616         24  0.9705882        \n",
            "whenamancodes/credit-card-customers-prediction                 Credit Card Customers Prediction                    379KB  2022-10-30 13:03:27           2744         61  1.0              \n",
            "whenamancodes/covid-19-coronavirus-pandemic-dataset            COVID -19 Coronavirus Pandemic Dataset               11KB  2022-09-30 04:05:11          11788        368  1.0              \n",
            "jillanisofttech/flight-price-prediction-dataset                Flight Price Prediction DataSet                     602KB  2022-11-18 10:37:29            694         26  0.7941176        \n",
            "ifteshanajnin/carinsuranceclaimprediction-classification       Car Insurance Claim Prediction                        2MB  2022-11-14 15:38:26            502         24  1.0              \n",
            "dbarteaux99/stable-diffusion-1-5                               Stable Diffusion 1.5 (normal and EMAonly) with vae    7GB  2022-10-23 15:40:29             42         15  0.9375           \n",
            "maharshipandya/-spotify-tracks-dataset                         🎹 Spotify Tracks Dataset                              8MB  2022-10-22 14:40:15           3441        100  1.0              \n",
            "aneesayoub/world-universities-ranking-2022                     World Universities Ranking 2022                      41KB  2022-11-17 03:47:37           1176         33  0.9117647        \n",
            "hasibalmuzdadid/global-air-pollution-dataset                   Global Air Pollution Dataset                        371KB  2022-11-08 14:43:32           2033         56  1.0              \n",
            "thedevastator/cancer-patients-and-air-pollution-a-new-link      Lung Cancer Prediction                               7KB  2022-11-14 13:40:40            768         29  1.0              \n",
            "salmankhaliq22/road-traffic-collision-dataset                  UK Road Traffic Collision Dataset                    99MB  2022-11-09 06:46:16            536         32  1.0              \n",
            "thedevastator/top-selling-nintendo-entertainment-system-games  Nintendo Entertainment System Games                  23KB  2022-11-11 17:47:38            496         22  0.85294116       \n"
          ]
        }
      ]
    },
    {
      "cell_type": "code",
      "source": [
        "# download dataset, choose 'copy api command' from kaggle dataset\n",
        "!kaggle datasets download -d hassanamin/textdb3"
      ],
      "metadata": {
        "colab": {
          "base_uri": "https://localhost:8080/"
        },
        "id": "GNBeesbBNzTJ",
        "outputId": "48b229a8-369d-494d-9787-254a6d5ef4a9"
      },
      "execution_count": 16,
      "outputs": [
        {
          "output_type": "stream",
          "name": "stdout",
          "text": [
            "textdb3.zip: Skipping, found more recently modified local copy (use --force to force download)\n"
          ]
        }
      ]
    },
    {
      "cell_type": "code",
      "source": [
        "# unzip\n",
        "!mkdir fake-news\n",
        "!unzip textdb3.zip -d fake-news\n",
        "!ls fake-news"
      ],
      "metadata": {
        "colab": {
          "base_uri": "https://localhost:8080/"
        },
        "id": "2kqZoCwZOABc",
        "outputId": "aa888b55-ff7f-4c4a-8e5e-6cb2398204df"
      },
      "execution_count": 17,
      "outputs": [
        {
          "output_type": "stream",
          "name": "stdout",
          "text": [
            "Archive:  textdb3.zip\n",
            "  inflating: fake-news/fake_or_real_news.csv  \n",
            "fake_or_real_news.csv\n"
          ]
        }
      ]
    },
    {
      "cell_type": "markdown",
      "source": [
        "# Load Datasets"
      ],
      "metadata": {
        "id": "igy0DXG4OPLv"
      }
    },
    {
      "cell_type": "code",
      "source": [
        "# import pandas\n",
        "import pandas as pd"
      ],
      "metadata": {
        "id": "iPyz6bpZOTtT"
      },
      "execution_count": 18,
      "outputs": []
    },
    {
      "cell_type": "code",
      "source": [
        "# load dataset\n",
        "df = pd.read_csv('fake-news/fake_or_real_news.csv', sep=',')\n",
        "df.head(10)"
      ],
      "metadata": {
        "colab": {
          "base_uri": "https://localhost:8080/",
          "height": 363
        },
        "id": "Yzm046C4OW_V",
        "outputId": "ae73a1ed-de3e-4ebc-b4ab-dc7134dd5789"
      },
      "execution_count": 24,
      "outputs": [
        {
          "output_type": "execute_result",
          "data": {
            "text/plain": [
              "   Unnamed: 0                                              title  \\\n",
              "0        8476                       You Can Smell Hillary’s Fear   \n",
              "1       10294  Watch The Exact Moment Paul Ryan Committed Pol...   \n",
              "2        3608        Kerry to go to Paris in gesture of sympathy   \n",
              "3       10142  Bernie supporters on Twitter erupt in anger ag...   \n",
              "4         875   The Battle of New York: Why This Primary Matters   \n",
              "5        6903                                        Tehran, USA   \n",
              "6        7341  Girl Horrified At What She Watches Boyfriend D...   \n",
              "7          95                  ‘Britain’s Schindler’ Dies at 106   \n",
              "8        4869  Fact check: Trump and Clinton at the 'commande...   \n",
              "9        2909  Iran reportedly makes new push for uranium con...   \n",
              "\n",
              "                                                text label  \n",
              "0  Daniel Greenfield, a Shillman Journalism Fello...  FAKE  \n",
              "1  Google Pinterest Digg Linkedin Reddit Stumbleu...  FAKE  \n",
              "2  U.S. Secretary of State John F. Kerry said Mon...  REAL  \n",
              "3  — Kaydee King (@KaydeeKing) November 9, 2016 T...  FAKE  \n",
              "4  It's primary day in New York and front-runners...  REAL  \n",
              "5    \\nI’m not an immigrant, but my grandparents ...  FAKE  \n",
              "6  Share This Baylee Luciani (left), Screenshot o...  FAKE  \n",
              "7  A Czech stockbroker who saved more than 650 Je...  REAL  \n",
              "8  Hillary Clinton and Donald Trump made some ina...  REAL  \n",
              "9  Iranian negotiators reportedly have made a las...  REAL  "
            ],
            "text/html": [
              "\n",
              "  <div id=\"df-423a596e-394f-477d-bcfe-f232f65cb979\">\n",
              "    <div class=\"colab-df-container\">\n",
              "      <div>\n",
              "<style scoped>\n",
              "    .dataframe tbody tr th:only-of-type {\n",
              "        vertical-align: middle;\n",
              "    }\n",
              "\n",
              "    .dataframe tbody tr th {\n",
              "        vertical-align: top;\n",
              "    }\n",
              "\n",
              "    .dataframe thead th {\n",
              "        text-align: right;\n",
              "    }\n",
              "</style>\n",
              "<table border=\"1\" class=\"dataframe\">\n",
              "  <thead>\n",
              "    <tr style=\"text-align: right;\">\n",
              "      <th></th>\n",
              "      <th>Unnamed: 0</th>\n",
              "      <th>title</th>\n",
              "      <th>text</th>\n",
              "      <th>label</th>\n",
              "    </tr>\n",
              "  </thead>\n",
              "  <tbody>\n",
              "    <tr>\n",
              "      <th>0</th>\n",
              "      <td>8476</td>\n",
              "      <td>You Can Smell Hillary’s Fear</td>\n",
              "      <td>Daniel Greenfield, a Shillman Journalism Fello...</td>\n",
              "      <td>FAKE</td>\n",
              "    </tr>\n",
              "    <tr>\n",
              "      <th>1</th>\n",
              "      <td>10294</td>\n",
              "      <td>Watch The Exact Moment Paul Ryan Committed Pol...</td>\n",
              "      <td>Google Pinterest Digg Linkedin Reddit Stumbleu...</td>\n",
              "      <td>FAKE</td>\n",
              "    </tr>\n",
              "    <tr>\n",
              "      <th>2</th>\n",
              "      <td>3608</td>\n",
              "      <td>Kerry to go to Paris in gesture of sympathy</td>\n",
              "      <td>U.S. Secretary of State John F. Kerry said Mon...</td>\n",
              "      <td>REAL</td>\n",
              "    </tr>\n",
              "    <tr>\n",
              "      <th>3</th>\n",
              "      <td>10142</td>\n",
              "      <td>Bernie supporters on Twitter erupt in anger ag...</td>\n",
              "      <td>— Kaydee King (@KaydeeKing) November 9, 2016 T...</td>\n",
              "      <td>FAKE</td>\n",
              "    </tr>\n",
              "    <tr>\n",
              "      <th>4</th>\n",
              "      <td>875</td>\n",
              "      <td>The Battle of New York: Why This Primary Matters</td>\n",
              "      <td>It's primary day in New York and front-runners...</td>\n",
              "      <td>REAL</td>\n",
              "    </tr>\n",
              "    <tr>\n",
              "      <th>5</th>\n",
              "      <td>6903</td>\n",
              "      <td>Tehran, USA</td>\n",
              "      <td>\\nI’m not an immigrant, but my grandparents ...</td>\n",
              "      <td>FAKE</td>\n",
              "    </tr>\n",
              "    <tr>\n",
              "      <th>6</th>\n",
              "      <td>7341</td>\n",
              "      <td>Girl Horrified At What She Watches Boyfriend D...</td>\n",
              "      <td>Share This Baylee Luciani (left), Screenshot o...</td>\n",
              "      <td>FAKE</td>\n",
              "    </tr>\n",
              "    <tr>\n",
              "      <th>7</th>\n",
              "      <td>95</td>\n",
              "      <td>‘Britain’s Schindler’ Dies at 106</td>\n",
              "      <td>A Czech stockbroker who saved more than 650 Je...</td>\n",
              "      <td>REAL</td>\n",
              "    </tr>\n",
              "    <tr>\n",
              "      <th>8</th>\n",
              "      <td>4869</td>\n",
              "      <td>Fact check: Trump and Clinton at the 'commande...</td>\n",
              "      <td>Hillary Clinton and Donald Trump made some ina...</td>\n",
              "      <td>REAL</td>\n",
              "    </tr>\n",
              "    <tr>\n",
              "      <th>9</th>\n",
              "      <td>2909</td>\n",
              "      <td>Iran reportedly makes new push for uranium con...</td>\n",
              "      <td>Iranian negotiators reportedly have made a las...</td>\n",
              "      <td>REAL</td>\n",
              "    </tr>\n",
              "  </tbody>\n",
              "</table>\n",
              "</div>\n",
              "      <button class=\"colab-df-convert\" onclick=\"convertToInteractive('df-423a596e-394f-477d-bcfe-f232f65cb979')\"\n",
              "              title=\"Convert this dataframe to an interactive table.\"\n",
              "              style=\"display:none;\">\n",
              "        \n",
              "  <svg xmlns=\"http://www.w3.org/2000/svg\" height=\"24px\"viewBox=\"0 0 24 24\"\n",
              "       width=\"24px\">\n",
              "    <path d=\"M0 0h24v24H0V0z\" fill=\"none\"/>\n",
              "    <path d=\"M18.56 5.44l.94 2.06.94-2.06 2.06-.94-2.06-.94-.94-2.06-.94 2.06-2.06.94zm-11 1L8.5 8.5l.94-2.06 2.06-.94-2.06-.94L8.5 2.5l-.94 2.06-2.06.94zm10 10l.94 2.06.94-2.06 2.06-.94-2.06-.94-.94-2.06-.94 2.06-2.06.94z\"/><path d=\"M17.41 7.96l-1.37-1.37c-.4-.4-.92-.59-1.43-.59-.52 0-1.04.2-1.43.59L10.3 9.45l-7.72 7.72c-.78.78-.78 2.05 0 2.83L4 21.41c.39.39.9.59 1.41.59.51 0 1.02-.2 1.41-.59l7.78-7.78 2.81-2.81c.8-.78.8-2.07 0-2.86zM5.41 20L4 18.59l7.72-7.72 1.47 1.35L5.41 20z\"/>\n",
              "  </svg>\n",
              "      </button>\n",
              "      \n",
              "  <style>\n",
              "    .colab-df-container {\n",
              "      display:flex;\n",
              "      flex-wrap:wrap;\n",
              "      gap: 12px;\n",
              "    }\n",
              "\n",
              "    .colab-df-convert {\n",
              "      background-color: #E8F0FE;\n",
              "      border: none;\n",
              "      border-radius: 50%;\n",
              "      cursor: pointer;\n",
              "      display: none;\n",
              "      fill: #1967D2;\n",
              "      height: 32px;\n",
              "      padding: 0 0 0 0;\n",
              "      width: 32px;\n",
              "    }\n",
              "\n",
              "    .colab-df-convert:hover {\n",
              "      background-color: #E2EBFA;\n",
              "      box-shadow: 0px 1px 2px rgba(60, 64, 67, 0.3), 0px 1px 3px 1px rgba(60, 64, 67, 0.15);\n",
              "      fill: #174EA6;\n",
              "    }\n",
              "\n",
              "    [theme=dark] .colab-df-convert {\n",
              "      background-color: #3B4455;\n",
              "      fill: #D2E3FC;\n",
              "    }\n",
              "\n",
              "    [theme=dark] .colab-df-convert:hover {\n",
              "      background-color: #434B5C;\n",
              "      box-shadow: 0px 1px 3px 1px rgba(0, 0, 0, 0.15);\n",
              "      filter: drop-shadow(0px 1px 2px rgba(0, 0, 0, 0.3));\n",
              "      fill: #FFFFFF;\n",
              "    }\n",
              "  </style>\n",
              "\n",
              "      <script>\n",
              "        const buttonEl =\n",
              "          document.querySelector('#df-423a596e-394f-477d-bcfe-f232f65cb979 button.colab-df-convert');\n",
              "        buttonEl.style.display =\n",
              "          google.colab.kernel.accessAllowed ? 'block' : 'none';\n",
              "\n",
              "        async function convertToInteractive(key) {\n",
              "          const element = document.querySelector('#df-423a596e-394f-477d-bcfe-f232f65cb979');\n",
              "          const dataTable =\n",
              "            await google.colab.kernel.invokeFunction('convertToInteractive',\n",
              "                                                     [key], {});\n",
              "          if (!dataTable) return;\n",
              "\n",
              "          const docLinkHtml = 'Like what you see? Visit the ' +\n",
              "            '<a target=\"_blank\" href=https://colab.research.google.com/notebooks/data_table.ipynb>data table notebook</a>'\n",
              "            + ' to learn more about interactive tables.';\n",
              "          element.innerHTML = '';\n",
              "          dataTable['output_type'] = 'display_data';\n",
              "          await google.colab.output.renderOutput(dataTable, element);\n",
              "          const docLink = document.createElement('div');\n",
              "          docLink.innerHTML = docLinkHtml;\n",
              "          element.appendChild(docLink);\n",
              "        }\n",
              "      </script>\n",
              "    </div>\n",
              "  </div>\n",
              "  "
            ]
          },
          "metadata": {},
          "execution_count": 24
        }
      ]
    },
    {
      "cell_type": "code",
      "source": [
        "# data columns\n",
        "df.columns"
      ],
      "metadata": {
        "colab": {
          "base_uri": "https://localhost:8080/"
        },
        "id": "SA4Ex0jcOtKv",
        "outputId": "bec0a1d2-7c69-4663-9d4f-c6ce30b320ad"
      },
      "execution_count": 25,
      "outputs": [
        {
          "output_type": "execute_result",
          "data": {
            "text/plain": [
              "Index(['Unnamed: 0', 'title', 'text', 'label'], dtype='object')"
            ]
          },
          "metadata": {},
          "execution_count": 25
        }
      ]
    },
    {
      "cell_type": "code",
      "source": [
        "# total data\n",
        "df.shape"
      ],
      "metadata": {
        "colab": {
          "base_uri": "https://localhost:8080/"
        },
        "id": "7w9ymLdbOwFd",
        "outputId": "bc0e2879-d9d4-4666-f723-dedca625cb17"
      },
      "execution_count": 27,
      "outputs": [
        {
          "output_type": "execute_result",
          "data": {
            "text/plain": [
              "(6335, 4)"
            ]
          },
          "metadata": {},
          "execution_count": 27
        }
      ]
    },
    {
      "cell_type": "code",
      "source": [
        "# data info\n",
        "df.info()"
      ],
      "metadata": {
        "colab": {
          "base_uri": "https://localhost:8080/"
        },
        "id": "EijhcQVAOyKB",
        "outputId": "d76f4af5-fc1b-448f-f065-2d5824621f29"
      },
      "execution_count": 28,
      "outputs": [
        {
          "output_type": "stream",
          "name": "stdout",
          "text": [
            "<class 'pandas.core.frame.DataFrame'>\n",
            "RangeIndex: 6335 entries, 0 to 6334\n",
            "Data columns (total 4 columns):\n",
            " #   Column      Non-Null Count  Dtype \n",
            "---  ------      --------------  ----- \n",
            " 0   Unnamed: 0  6335 non-null   int64 \n",
            " 1   title       6335 non-null   object\n",
            " 2   text        6335 non-null   object\n",
            " 3   label       6335 non-null   object\n",
            "dtypes: int64(1), object(3)\n",
            "memory usage: 198.1+ KB\n"
          ]
        }
      ]
    },
    {
      "cell_type": "code",
      "source": [
        "# categories\n",
        "df.title.value_counts()"
      ],
      "metadata": {
        "colab": {
          "base_uri": "https://localhost:8080/"
        },
        "id": "b1OJmaALPJ7L",
        "outputId": "304324aa-5f25-4b79-ee31-2fbc5eb3a08c"
      },
      "execution_count": 29,
      "outputs": [
        {
          "output_type": "execute_result",
          "data": {
            "text/plain": [
              "OnPolitics | 's politics blog                                                                         5\n",
              "Michael Moore Owes Me $4.99                                                                           3\n",
              "Hillary’s “Big Tent” is Obama’s “Grand Bargain” on Steroids                                           3\n",
              "Get Ready For Civil Unrest: Survey Finds That Most Americans Are Concerned About Election Violence    3\n",
              "The Dark Agenda Behind Globalism And Open Borders                                                     2\n",
              "                                                                                                     ..\n",
              "This Year’s Mammogram Month Launched With Devastating Report On Harms, Lack Of Effectiveness          1\n",
              "Trump Reveals American Muslim Solution                                                                1\n",
              "Fox News Gets Destroyed While Trying To Blame Hillary Clinton For GOP Email Scandal                   1\n",
              "Jeh Johnson calls for increased vigilance after Mall of America terror threat                         1\n",
              "Jeb Bush Is Suddenly Attacking Trump. Here's Why That Matters                                         1\n",
              "Name: title, Length: 6256, dtype: int64"
            ]
          },
          "metadata": {},
          "execution_count": 29
        }
      ]
    },
    {
      "cell_type": "code",
      "source": [
        "# delete columns (unused column)\n",
        "df_new = df.drop(columns=['Unnamed: 0'])\n",
        "df_new"
      ],
      "metadata": {
        "colab": {
          "base_uri": "https://localhost:8080/",
          "height": 424
        },
        "id": "5eRSncdgPkYD",
        "outputId": "c2666b02-8b9c-448e-bf73-a173fce2cb12"
      },
      "execution_count": 30,
      "outputs": [
        {
          "output_type": "execute_result",
          "data": {
            "text/plain": [
              "                                                  title  \\\n",
              "0                          You Can Smell Hillary’s Fear   \n",
              "1     Watch The Exact Moment Paul Ryan Committed Pol...   \n",
              "2           Kerry to go to Paris in gesture of sympathy   \n",
              "3     Bernie supporters on Twitter erupt in anger ag...   \n",
              "4      The Battle of New York: Why This Primary Matters   \n",
              "...                                                 ...   \n",
              "6330  State Department says it can't find emails fro...   \n",
              "6331  The ‘P’ in PBS Should Stand for ‘Plutocratic’ ...   \n",
              "6332  Anti-Trump Protesters Are Tools of the Oligarc...   \n",
              "6333  In Ethiopia, Obama seeks progress on peace, se...   \n",
              "6334  Jeb Bush Is Suddenly Attacking Trump. Here's W...   \n",
              "\n",
              "                                                   text label  \n",
              "0     Daniel Greenfield, a Shillman Journalism Fello...  FAKE  \n",
              "1     Google Pinterest Digg Linkedin Reddit Stumbleu...  FAKE  \n",
              "2     U.S. Secretary of State John F. Kerry said Mon...  REAL  \n",
              "3     — Kaydee King (@KaydeeKing) November 9, 2016 T...  FAKE  \n",
              "4     It's primary day in New York and front-runners...  REAL  \n",
              "...                                                 ...   ...  \n",
              "6330  The State Department told the Republican Natio...  REAL  \n",
              "6331  The ‘P’ in PBS Should Stand for ‘Plutocratic’ ...  FAKE  \n",
              "6332   Anti-Trump Protesters Are Tools of the Oligar...  FAKE  \n",
              "6333  ADDIS ABABA, Ethiopia —President Obama convene...  REAL  \n",
              "6334  Jeb Bush Is Suddenly Attacking Trump. Here's W...  REAL  \n",
              "\n",
              "[6335 rows x 3 columns]"
            ],
            "text/html": [
              "\n",
              "  <div id=\"df-ded0c27b-7530-4151-89c0-38508c10ad58\">\n",
              "    <div class=\"colab-df-container\">\n",
              "      <div>\n",
              "<style scoped>\n",
              "    .dataframe tbody tr th:only-of-type {\n",
              "        vertical-align: middle;\n",
              "    }\n",
              "\n",
              "    .dataframe tbody tr th {\n",
              "        vertical-align: top;\n",
              "    }\n",
              "\n",
              "    .dataframe thead th {\n",
              "        text-align: right;\n",
              "    }\n",
              "</style>\n",
              "<table border=\"1\" class=\"dataframe\">\n",
              "  <thead>\n",
              "    <tr style=\"text-align: right;\">\n",
              "      <th></th>\n",
              "      <th>title</th>\n",
              "      <th>text</th>\n",
              "      <th>label</th>\n",
              "    </tr>\n",
              "  </thead>\n",
              "  <tbody>\n",
              "    <tr>\n",
              "      <th>0</th>\n",
              "      <td>You Can Smell Hillary’s Fear</td>\n",
              "      <td>Daniel Greenfield, a Shillman Journalism Fello...</td>\n",
              "      <td>FAKE</td>\n",
              "    </tr>\n",
              "    <tr>\n",
              "      <th>1</th>\n",
              "      <td>Watch The Exact Moment Paul Ryan Committed Pol...</td>\n",
              "      <td>Google Pinterest Digg Linkedin Reddit Stumbleu...</td>\n",
              "      <td>FAKE</td>\n",
              "    </tr>\n",
              "    <tr>\n",
              "      <th>2</th>\n",
              "      <td>Kerry to go to Paris in gesture of sympathy</td>\n",
              "      <td>U.S. Secretary of State John F. Kerry said Mon...</td>\n",
              "      <td>REAL</td>\n",
              "    </tr>\n",
              "    <tr>\n",
              "      <th>3</th>\n",
              "      <td>Bernie supporters on Twitter erupt in anger ag...</td>\n",
              "      <td>— Kaydee King (@KaydeeKing) November 9, 2016 T...</td>\n",
              "      <td>FAKE</td>\n",
              "    </tr>\n",
              "    <tr>\n",
              "      <th>4</th>\n",
              "      <td>The Battle of New York: Why This Primary Matters</td>\n",
              "      <td>It's primary day in New York and front-runners...</td>\n",
              "      <td>REAL</td>\n",
              "    </tr>\n",
              "    <tr>\n",
              "      <th>...</th>\n",
              "      <td>...</td>\n",
              "      <td>...</td>\n",
              "      <td>...</td>\n",
              "    </tr>\n",
              "    <tr>\n",
              "      <th>6330</th>\n",
              "      <td>State Department says it can't find emails fro...</td>\n",
              "      <td>The State Department told the Republican Natio...</td>\n",
              "      <td>REAL</td>\n",
              "    </tr>\n",
              "    <tr>\n",
              "      <th>6331</th>\n",
              "      <td>The ‘P’ in PBS Should Stand for ‘Plutocratic’ ...</td>\n",
              "      <td>The ‘P’ in PBS Should Stand for ‘Plutocratic’ ...</td>\n",
              "      <td>FAKE</td>\n",
              "    </tr>\n",
              "    <tr>\n",
              "      <th>6332</th>\n",
              "      <td>Anti-Trump Protesters Are Tools of the Oligarc...</td>\n",
              "      <td>Anti-Trump Protesters Are Tools of the Oligar...</td>\n",
              "      <td>FAKE</td>\n",
              "    </tr>\n",
              "    <tr>\n",
              "      <th>6333</th>\n",
              "      <td>In Ethiopia, Obama seeks progress on peace, se...</td>\n",
              "      <td>ADDIS ABABA, Ethiopia —President Obama convene...</td>\n",
              "      <td>REAL</td>\n",
              "    </tr>\n",
              "    <tr>\n",
              "      <th>6334</th>\n",
              "      <td>Jeb Bush Is Suddenly Attacking Trump. Here's W...</td>\n",
              "      <td>Jeb Bush Is Suddenly Attacking Trump. Here's W...</td>\n",
              "      <td>REAL</td>\n",
              "    </tr>\n",
              "  </tbody>\n",
              "</table>\n",
              "<p>6335 rows × 3 columns</p>\n",
              "</div>\n",
              "      <button class=\"colab-df-convert\" onclick=\"convertToInteractive('df-ded0c27b-7530-4151-89c0-38508c10ad58')\"\n",
              "              title=\"Convert this dataframe to an interactive table.\"\n",
              "              style=\"display:none;\">\n",
              "        \n",
              "  <svg xmlns=\"http://www.w3.org/2000/svg\" height=\"24px\"viewBox=\"0 0 24 24\"\n",
              "       width=\"24px\">\n",
              "    <path d=\"M0 0h24v24H0V0z\" fill=\"none\"/>\n",
              "    <path d=\"M18.56 5.44l.94 2.06.94-2.06 2.06-.94-2.06-.94-.94-2.06-.94 2.06-2.06.94zm-11 1L8.5 8.5l.94-2.06 2.06-.94-2.06-.94L8.5 2.5l-.94 2.06-2.06.94zm10 10l.94 2.06.94-2.06 2.06-.94-2.06-.94-.94-2.06-.94 2.06-2.06.94z\"/><path d=\"M17.41 7.96l-1.37-1.37c-.4-.4-.92-.59-1.43-.59-.52 0-1.04.2-1.43.59L10.3 9.45l-7.72 7.72c-.78.78-.78 2.05 0 2.83L4 21.41c.39.39.9.59 1.41.59.51 0 1.02-.2 1.41-.59l7.78-7.78 2.81-2.81c.8-.78.8-2.07 0-2.86zM5.41 20L4 18.59l7.72-7.72 1.47 1.35L5.41 20z\"/>\n",
              "  </svg>\n",
              "      </button>\n",
              "      \n",
              "  <style>\n",
              "    .colab-df-container {\n",
              "      display:flex;\n",
              "      flex-wrap:wrap;\n",
              "      gap: 12px;\n",
              "    }\n",
              "\n",
              "    .colab-df-convert {\n",
              "      background-color: #E8F0FE;\n",
              "      border: none;\n",
              "      border-radius: 50%;\n",
              "      cursor: pointer;\n",
              "      display: none;\n",
              "      fill: #1967D2;\n",
              "      height: 32px;\n",
              "      padding: 0 0 0 0;\n",
              "      width: 32px;\n",
              "    }\n",
              "\n",
              "    .colab-df-convert:hover {\n",
              "      background-color: #E2EBFA;\n",
              "      box-shadow: 0px 1px 2px rgba(60, 64, 67, 0.3), 0px 1px 3px 1px rgba(60, 64, 67, 0.15);\n",
              "      fill: #174EA6;\n",
              "    }\n",
              "\n",
              "    [theme=dark] .colab-df-convert {\n",
              "      background-color: #3B4455;\n",
              "      fill: #D2E3FC;\n",
              "    }\n",
              "\n",
              "    [theme=dark] .colab-df-convert:hover {\n",
              "      background-color: #434B5C;\n",
              "      box-shadow: 0px 1px 3px 1px rgba(0, 0, 0, 0.15);\n",
              "      filter: drop-shadow(0px 1px 2px rgba(0, 0, 0, 0.3));\n",
              "      fill: #FFFFFF;\n",
              "    }\n",
              "  </style>\n",
              "\n",
              "      <script>\n",
              "        const buttonEl =\n",
              "          document.querySelector('#df-ded0c27b-7530-4151-89c0-38508c10ad58 button.colab-df-convert');\n",
              "        buttonEl.style.display =\n",
              "          google.colab.kernel.accessAllowed ? 'block' : 'none';\n",
              "\n",
              "        async function convertToInteractive(key) {\n",
              "          const element = document.querySelector('#df-ded0c27b-7530-4151-89c0-38508c10ad58');\n",
              "          const dataTable =\n",
              "            await google.colab.kernel.invokeFunction('convertToInteractive',\n",
              "                                                     [key], {});\n",
              "          if (!dataTable) return;\n",
              "\n",
              "          const docLinkHtml = 'Like what you see? Visit the ' +\n",
              "            '<a target=\"_blank\" href=https://colab.research.google.com/notebooks/data_table.ipynb>data table notebook</a>'\n",
              "            + ' to learn more about interactive tables.';\n",
              "          element.innerHTML = '';\n",
              "          dataTable['output_type'] = 'display_data';\n",
              "          await google.colab.output.renderOutput(dataTable, element);\n",
              "          const docLink = document.createElement('div');\n",
              "          docLink.innerHTML = docLinkHtml;\n",
              "          element.appendChild(docLink);\n",
              "        }\n",
              "      </script>\n",
              "    </div>\n",
              "  </div>\n",
              "  "
            ]
          },
          "metadata": {},
          "execution_count": 30
        }
      ]
    },
    {
      "cell_type": "markdown",
      "source": [
        "# Cleansing Data\n",
        "\n"
      ],
      "metadata": {
        "id": "kq1u0EbQPte-"
      }
    },
    {
      "cell_type": "code",
      "source": [
        "# import and download package\n",
        "import nltk, os, re, string\n",
        "\n",
        "from keras.layers import Input, LSTM, Bidirectional, SpatialDropout1D, Dropout, Flatten, Dense, Embedding, BatchNormalization\n",
        "from keras.models import Model\n",
        "from keras.callbacks import EarlyStopping\n",
        "from keras.preprocessing.text import Tokenizer, text_to_word_sequence\n",
        "from keras_preprocessing.sequence import pad_sequences\n",
        "from keras.utils import to_categorical\n",
        "\n",
        "from nltk.corpus import stopwords\n",
        "from nltk.stem import WordNetLemmatizer\n",
        "from nltk.corpus import wordnet as wn\n",
        "\n",
        "nltk.download('wordnet')\n",
        "nltk.download('stopwords') "
      ],
      "metadata": {
        "colab": {
          "base_uri": "https://localhost:8080/"
        },
        "id": "rsnWJuhaPw55",
        "outputId": "5cba5343-0df7-42d2-90fd-e99f7787d367"
      },
      "execution_count": 31,
      "outputs": [
        {
          "output_type": "stream",
          "name": "stderr",
          "text": [
            "[nltk_data] Downloading package wordnet to /root/nltk_data...\n",
            "[nltk_data] Downloading package stopwords to /root/nltk_data...\n",
            "[nltk_data]   Unzipping corpora/stopwords.zip.\n"
          ]
        },
        {
          "output_type": "execute_result",
          "data": {
            "text/plain": [
              "True"
            ]
          },
          "metadata": {},
          "execution_count": 31
        }
      ]
    },
    {
      "cell_type": "code",
      "source": [
        "# lower-case all characters\n",
        "df_new.title = df_new.title.apply(lambda x: x.lower())\n",
        "df_new.text = df_new.text.apply(lambda x: x.lower())\n",
        "df_new.label = df_new.label.apply(lambda x: x.lower())\n",
        "\n",
        "# removing functuation\n",
        "def cleaner(data):\n",
        "    return(data.translate(str.maketrans('','', string.punctuation)))\n",
        "    df_new.title = df_new.title.apply(lambda x: cleaner(x))\n",
        "    df_new.text = df_new.text.apply(lambda x: lem(x))\n",
        "    df_new.label = df_new.label.apply(lambda x: lem(x))\n",
        "\n",
        "## lematization\n",
        "lemmatizer = WordNetLemmatizer()\n",
        "\n",
        "def lem(data):\n",
        "    pos_dict = {'N': wn.NOUN, 'V': wn.VERB, 'J': wn.ADJ, 'R': wn.ADV}\n",
        "    return(' '.join([lemmatizer.lemmatize(w,pos_dict.get(t, wn.NOUN)) for w,t in nltk.pos_tag(data.split())]))\n",
        "    df_new.title = df_new.title.apply(lambda x: lem(x))\n",
        "    df_new.text = df_new.text.apply(lambda x: lem(x))\n",
        "    df_new.label = df_new.label.apply(lambda x: lem(x))\n",
        "\n",
        "# removing number\n",
        "def rem_numbers(data):\n",
        "    return re.sub('[0-9]+','',data)\n",
        "    df_new['title'].apply(rem_numbers)\n",
        "    df_new['text'].apply(rem_numbers)\n",
        "    df_new['label'].apply(rem_numbers)\n",
        "\n",
        "# removing stopword\n",
        "st_words = stopwords.words()\n",
        "def stopword(data):\n",
        "    return(' '.join([w for w in data.split() if w not in st_words ]))\n",
        "    df_new.title = df_new.title.apply(lambda x: stopword(x))\n",
        "    df_new.text = df_new.text.apply(lambda x: lem(x))\n",
        "    df_new.label = df_new.text.apply(lambda x: lem(x))"
      ],
      "metadata": {
        "id": "OWqRKJ7_QDMF"
      },
      "execution_count": 34,
      "outputs": []
    },
    {
      "cell_type": "code",
      "source": [
        "# view data after cleansing\n",
        "df_new.head(10)"
      ],
      "metadata": {
        "colab": {
          "base_uri": "https://localhost:8080/",
          "height": 363
        },
        "id": "gsbQaEZ_QaG-",
        "outputId": "edcd6f20-f598-4ee6-ba10-1d6a60beadb6"
      },
      "execution_count": 35,
      "outputs": [
        {
          "output_type": "execute_result",
          "data": {
            "text/plain": [
              "                                               title  \\\n",
              "0                       you can smell hillary’s fear   \n",
              "1  watch the exact moment paul ryan committed pol...   \n",
              "2        kerry to go to paris in gesture of sympathy   \n",
              "3  bernie supporters on twitter erupt in anger ag...   \n",
              "4   the battle of new york: why this primary matters   \n",
              "5                                        tehran, usa   \n",
              "6  girl horrified at what she watches boyfriend d...   \n",
              "7                  ‘britain’s schindler’ dies at 106   \n",
              "8  fact check: trump and clinton at the 'commande...   \n",
              "9  iran reportedly makes new push for uranium con...   \n",
              "\n",
              "                                                text label  \n",
              "0  daniel greenfield, a shillman journalism fello...  fake  \n",
              "1  google pinterest digg linkedin reddit stumbleu...  fake  \n",
              "2  u.s. secretary of state john f. kerry said mon...  real  \n",
              "3  — kaydee king (@kaydeeking) november 9, 2016 t...  fake  \n",
              "4  it's primary day in new york and front-runners...  real  \n",
              "5    \\ni’m not an immigrant, but my grandparents ...  fake  \n",
              "6  share this baylee luciani (left), screenshot o...  fake  \n",
              "7  a czech stockbroker who saved more than 650 je...  real  \n",
              "8  hillary clinton and donald trump made some ina...  real  \n",
              "9  iranian negotiators reportedly have made a las...  real  "
            ],
            "text/html": [
              "\n",
              "  <div id=\"df-56c69e17-0a68-416a-aa04-74695b65466f\">\n",
              "    <div class=\"colab-df-container\">\n",
              "      <div>\n",
              "<style scoped>\n",
              "    .dataframe tbody tr th:only-of-type {\n",
              "        vertical-align: middle;\n",
              "    }\n",
              "\n",
              "    .dataframe tbody tr th {\n",
              "        vertical-align: top;\n",
              "    }\n",
              "\n",
              "    .dataframe thead th {\n",
              "        text-align: right;\n",
              "    }\n",
              "</style>\n",
              "<table border=\"1\" class=\"dataframe\">\n",
              "  <thead>\n",
              "    <tr style=\"text-align: right;\">\n",
              "      <th></th>\n",
              "      <th>title</th>\n",
              "      <th>text</th>\n",
              "      <th>label</th>\n",
              "    </tr>\n",
              "  </thead>\n",
              "  <tbody>\n",
              "    <tr>\n",
              "      <th>0</th>\n",
              "      <td>you can smell hillary’s fear</td>\n",
              "      <td>daniel greenfield, a shillman journalism fello...</td>\n",
              "      <td>fake</td>\n",
              "    </tr>\n",
              "    <tr>\n",
              "      <th>1</th>\n",
              "      <td>watch the exact moment paul ryan committed pol...</td>\n",
              "      <td>google pinterest digg linkedin reddit stumbleu...</td>\n",
              "      <td>fake</td>\n",
              "    </tr>\n",
              "    <tr>\n",
              "      <th>2</th>\n",
              "      <td>kerry to go to paris in gesture of sympathy</td>\n",
              "      <td>u.s. secretary of state john f. kerry said mon...</td>\n",
              "      <td>real</td>\n",
              "    </tr>\n",
              "    <tr>\n",
              "      <th>3</th>\n",
              "      <td>bernie supporters on twitter erupt in anger ag...</td>\n",
              "      <td>— kaydee king (@kaydeeking) november 9, 2016 t...</td>\n",
              "      <td>fake</td>\n",
              "    </tr>\n",
              "    <tr>\n",
              "      <th>4</th>\n",
              "      <td>the battle of new york: why this primary matters</td>\n",
              "      <td>it's primary day in new york and front-runners...</td>\n",
              "      <td>real</td>\n",
              "    </tr>\n",
              "    <tr>\n",
              "      <th>5</th>\n",
              "      <td>tehran, usa</td>\n",
              "      <td>\\ni’m not an immigrant, but my grandparents ...</td>\n",
              "      <td>fake</td>\n",
              "    </tr>\n",
              "    <tr>\n",
              "      <th>6</th>\n",
              "      <td>girl horrified at what she watches boyfriend d...</td>\n",
              "      <td>share this baylee luciani (left), screenshot o...</td>\n",
              "      <td>fake</td>\n",
              "    </tr>\n",
              "    <tr>\n",
              "      <th>7</th>\n",
              "      <td>‘britain’s schindler’ dies at 106</td>\n",
              "      <td>a czech stockbroker who saved more than 650 je...</td>\n",
              "      <td>real</td>\n",
              "    </tr>\n",
              "    <tr>\n",
              "      <th>8</th>\n",
              "      <td>fact check: trump and clinton at the 'commande...</td>\n",
              "      <td>hillary clinton and donald trump made some ina...</td>\n",
              "      <td>real</td>\n",
              "    </tr>\n",
              "    <tr>\n",
              "      <th>9</th>\n",
              "      <td>iran reportedly makes new push for uranium con...</td>\n",
              "      <td>iranian negotiators reportedly have made a las...</td>\n",
              "      <td>real</td>\n",
              "    </tr>\n",
              "  </tbody>\n",
              "</table>\n",
              "</div>\n",
              "      <button class=\"colab-df-convert\" onclick=\"convertToInteractive('df-56c69e17-0a68-416a-aa04-74695b65466f')\"\n",
              "              title=\"Convert this dataframe to an interactive table.\"\n",
              "              style=\"display:none;\">\n",
              "        \n",
              "  <svg xmlns=\"http://www.w3.org/2000/svg\" height=\"24px\"viewBox=\"0 0 24 24\"\n",
              "       width=\"24px\">\n",
              "    <path d=\"M0 0h24v24H0V0z\" fill=\"none\"/>\n",
              "    <path d=\"M18.56 5.44l.94 2.06.94-2.06 2.06-.94-2.06-.94-.94-2.06-.94 2.06-2.06.94zm-11 1L8.5 8.5l.94-2.06 2.06-.94-2.06-.94L8.5 2.5l-.94 2.06-2.06.94zm10 10l.94 2.06.94-2.06 2.06-.94-2.06-.94-.94-2.06-.94 2.06-2.06.94z\"/><path d=\"M17.41 7.96l-1.37-1.37c-.4-.4-.92-.59-1.43-.59-.52 0-1.04.2-1.43.59L10.3 9.45l-7.72 7.72c-.78.78-.78 2.05 0 2.83L4 21.41c.39.39.9.59 1.41.59.51 0 1.02-.2 1.41-.59l7.78-7.78 2.81-2.81c.8-.78.8-2.07 0-2.86zM5.41 20L4 18.59l7.72-7.72 1.47 1.35L5.41 20z\"/>\n",
              "  </svg>\n",
              "      </button>\n",
              "      \n",
              "  <style>\n",
              "    .colab-df-container {\n",
              "      display:flex;\n",
              "      flex-wrap:wrap;\n",
              "      gap: 12px;\n",
              "    }\n",
              "\n",
              "    .colab-df-convert {\n",
              "      background-color: #E8F0FE;\n",
              "      border: none;\n",
              "      border-radius: 50%;\n",
              "      cursor: pointer;\n",
              "      display: none;\n",
              "      fill: #1967D2;\n",
              "      height: 32px;\n",
              "      padding: 0 0 0 0;\n",
              "      width: 32px;\n",
              "    }\n",
              "\n",
              "    .colab-df-convert:hover {\n",
              "      background-color: #E2EBFA;\n",
              "      box-shadow: 0px 1px 2px rgba(60, 64, 67, 0.3), 0px 1px 3px 1px rgba(60, 64, 67, 0.15);\n",
              "      fill: #174EA6;\n",
              "    }\n",
              "\n",
              "    [theme=dark] .colab-df-convert {\n",
              "      background-color: #3B4455;\n",
              "      fill: #D2E3FC;\n",
              "    }\n",
              "\n",
              "    [theme=dark] .colab-df-convert:hover {\n",
              "      background-color: #434B5C;\n",
              "      box-shadow: 0px 1px 3px 1px rgba(0, 0, 0, 0.15);\n",
              "      filter: drop-shadow(0px 1px 2px rgba(0, 0, 0, 0.3));\n",
              "      fill: #FFFFFF;\n",
              "    }\n",
              "  </style>\n",
              "\n",
              "      <script>\n",
              "        const buttonEl =\n",
              "          document.querySelector('#df-56c69e17-0a68-416a-aa04-74695b65466f button.colab-df-convert');\n",
              "        buttonEl.style.display =\n",
              "          google.colab.kernel.accessAllowed ? 'block' : 'none';\n",
              "\n",
              "        async function convertToInteractive(key) {\n",
              "          const element = document.querySelector('#df-56c69e17-0a68-416a-aa04-74695b65466f');\n",
              "          const dataTable =\n",
              "            await google.colab.kernel.invokeFunction('convertToInteractive',\n",
              "                                                     [key], {});\n",
              "          if (!dataTable) return;\n",
              "\n",
              "          const docLinkHtml = 'Like what you see? Visit the ' +\n",
              "            '<a target=\"_blank\" href=https://colab.research.google.com/notebooks/data_table.ipynb>data table notebook</a>'\n",
              "            + ' to learn more about interactive tables.';\n",
              "          element.innerHTML = '';\n",
              "          dataTable['output_type'] = 'display_data';\n",
              "          await google.colab.output.renderOutput(dataTable, element);\n",
              "          const docLink = document.createElement('div');\n",
              "          docLink.innerHTML = docLinkHtml;\n",
              "          element.appendChild(docLink);\n",
              "        }\n",
              "      </script>\n",
              "    </div>\n",
              "  </div>\n",
              "  "
            ]
          },
          "metadata": {},
          "execution_count": 35
        }
      ]
    },
    {
      "cell_type": "markdown",
      "source": [
        "# Model and Plot"
      ],
      "metadata": {
        "id": "r4CYGbDoQngv"
      }
    },
    {
      "cell_type": "code",
      "source": [
        "# data category one-hot-encoding\n",
        "label = pd.get_dummies(df_new.label)\n",
        "df_new_cat = pd.concat([df_new, label], axis=1)\n",
        "df_new_cat = df_new_cat.drop(columns='label')\n",
        "df_new_cat.head(10)"
      ],
      "metadata": {
        "colab": {
          "base_uri": "https://localhost:8080/",
          "height": 363
        },
        "id": "29vcODj3QpEf",
        "outputId": "b227f120-c627-40b2-8b0e-c05aca75bc60"
      },
      "execution_count": 37,
      "outputs": [
        {
          "output_type": "execute_result",
          "data": {
            "text/plain": [
              "                                               title  \\\n",
              "0                       you can smell hillary’s fear   \n",
              "1  watch the exact moment paul ryan committed pol...   \n",
              "2        kerry to go to paris in gesture of sympathy   \n",
              "3  bernie supporters on twitter erupt in anger ag...   \n",
              "4   the battle of new york: why this primary matters   \n",
              "5                                        tehran, usa   \n",
              "6  girl horrified at what she watches boyfriend d...   \n",
              "7                  ‘britain’s schindler’ dies at 106   \n",
              "8  fact check: trump and clinton at the 'commande...   \n",
              "9  iran reportedly makes new push for uranium con...   \n",
              "\n",
              "                                                text  fake  real  \n",
              "0  daniel greenfield, a shillman journalism fello...     1     0  \n",
              "1  google pinterest digg linkedin reddit stumbleu...     1     0  \n",
              "2  u.s. secretary of state john f. kerry said mon...     0     1  \n",
              "3  — kaydee king (@kaydeeking) november 9, 2016 t...     1     0  \n",
              "4  it's primary day in new york and front-runners...     0     1  \n",
              "5    \\ni’m not an immigrant, but my grandparents ...     1     0  \n",
              "6  share this baylee luciani (left), screenshot o...     1     0  \n",
              "7  a czech stockbroker who saved more than 650 je...     0     1  \n",
              "8  hillary clinton and donald trump made some ina...     0     1  \n",
              "9  iranian negotiators reportedly have made a las...     0     1  "
            ],
            "text/html": [
              "\n",
              "  <div id=\"df-814f0cfb-84d7-4d81-93d4-e8d0eadaf8ca\">\n",
              "    <div class=\"colab-df-container\">\n",
              "      <div>\n",
              "<style scoped>\n",
              "    .dataframe tbody tr th:only-of-type {\n",
              "        vertical-align: middle;\n",
              "    }\n",
              "\n",
              "    .dataframe tbody tr th {\n",
              "        vertical-align: top;\n",
              "    }\n",
              "\n",
              "    .dataframe thead th {\n",
              "        text-align: right;\n",
              "    }\n",
              "</style>\n",
              "<table border=\"1\" class=\"dataframe\">\n",
              "  <thead>\n",
              "    <tr style=\"text-align: right;\">\n",
              "      <th></th>\n",
              "      <th>title</th>\n",
              "      <th>text</th>\n",
              "      <th>fake</th>\n",
              "      <th>real</th>\n",
              "    </tr>\n",
              "  </thead>\n",
              "  <tbody>\n",
              "    <tr>\n",
              "      <th>0</th>\n",
              "      <td>you can smell hillary’s fear</td>\n",
              "      <td>daniel greenfield, a shillman journalism fello...</td>\n",
              "      <td>1</td>\n",
              "      <td>0</td>\n",
              "    </tr>\n",
              "    <tr>\n",
              "      <th>1</th>\n",
              "      <td>watch the exact moment paul ryan committed pol...</td>\n",
              "      <td>google pinterest digg linkedin reddit stumbleu...</td>\n",
              "      <td>1</td>\n",
              "      <td>0</td>\n",
              "    </tr>\n",
              "    <tr>\n",
              "      <th>2</th>\n",
              "      <td>kerry to go to paris in gesture of sympathy</td>\n",
              "      <td>u.s. secretary of state john f. kerry said mon...</td>\n",
              "      <td>0</td>\n",
              "      <td>1</td>\n",
              "    </tr>\n",
              "    <tr>\n",
              "      <th>3</th>\n",
              "      <td>bernie supporters on twitter erupt in anger ag...</td>\n",
              "      <td>— kaydee king (@kaydeeking) november 9, 2016 t...</td>\n",
              "      <td>1</td>\n",
              "      <td>0</td>\n",
              "    </tr>\n",
              "    <tr>\n",
              "      <th>4</th>\n",
              "      <td>the battle of new york: why this primary matters</td>\n",
              "      <td>it's primary day in new york and front-runners...</td>\n",
              "      <td>0</td>\n",
              "      <td>1</td>\n",
              "    </tr>\n",
              "    <tr>\n",
              "      <th>5</th>\n",
              "      <td>tehran, usa</td>\n",
              "      <td>\\ni’m not an immigrant, but my grandparents ...</td>\n",
              "      <td>1</td>\n",
              "      <td>0</td>\n",
              "    </tr>\n",
              "    <tr>\n",
              "      <th>6</th>\n",
              "      <td>girl horrified at what she watches boyfriend d...</td>\n",
              "      <td>share this baylee luciani (left), screenshot o...</td>\n",
              "      <td>1</td>\n",
              "      <td>0</td>\n",
              "    </tr>\n",
              "    <tr>\n",
              "      <th>7</th>\n",
              "      <td>‘britain’s schindler’ dies at 106</td>\n",
              "      <td>a czech stockbroker who saved more than 650 je...</td>\n",
              "      <td>0</td>\n",
              "      <td>1</td>\n",
              "    </tr>\n",
              "    <tr>\n",
              "      <th>8</th>\n",
              "      <td>fact check: trump and clinton at the 'commande...</td>\n",
              "      <td>hillary clinton and donald trump made some ina...</td>\n",
              "      <td>0</td>\n",
              "      <td>1</td>\n",
              "    </tr>\n",
              "    <tr>\n",
              "      <th>9</th>\n",
              "      <td>iran reportedly makes new push for uranium con...</td>\n",
              "      <td>iranian negotiators reportedly have made a las...</td>\n",
              "      <td>0</td>\n",
              "      <td>1</td>\n",
              "    </tr>\n",
              "  </tbody>\n",
              "</table>\n",
              "</div>\n",
              "      <button class=\"colab-df-convert\" onclick=\"convertToInteractive('df-814f0cfb-84d7-4d81-93d4-e8d0eadaf8ca')\"\n",
              "              title=\"Convert this dataframe to an interactive table.\"\n",
              "              style=\"display:none;\">\n",
              "        \n",
              "  <svg xmlns=\"http://www.w3.org/2000/svg\" height=\"24px\"viewBox=\"0 0 24 24\"\n",
              "       width=\"24px\">\n",
              "    <path d=\"M0 0h24v24H0V0z\" fill=\"none\"/>\n",
              "    <path d=\"M18.56 5.44l.94 2.06.94-2.06 2.06-.94-2.06-.94-.94-2.06-.94 2.06-2.06.94zm-11 1L8.5 8.5l.94-2.06 2.06-.94-2.06-.94L8.5 2.5l-.94 2.06-2.06.94zm10 10l.94 2.06.94-2.06 2.06-.94-2.06-.94-.94-2.06-.94 2.06-2.06.94z\"/><path d=\"M17.41 7.96l-1.37-1.37c-.4-.4-.92-.59-1.43-.59-.52 0-1.04.2-1.43.59L10.3 9.45l-7.72 7.72c-.78.78-.78 2.05 0 2.83L4 21.41c.39.39.9.59 1.41.59.51 0 1.02-.2 1.41-.59l7.78-7.78 2.81-2.81c.8-.78.8-2.07 0-2.86zM5.41 20L4 18.59l7.72-7.72 1.47 1.35L5.41 20z\"/>\n",
              "  </svg>\n",
              "      </button>\n",
              "      \n",
              "  <style>\n",
              "    .colab-df-container {\n",
              "      display:flex;\n",
              "      flex-wrap:wrap;\n",
              "      gap: 12px;\n",
              "    }\n",
              "\n",
              "    .colab-df-convert {\n",
              "      background-color: #E8F0FE;\n",
              "      border: none;\n",
              "      border-radius: 50%;\n",
              "      cursor: pointer;\n",
              "      display: none;\n",
              "      fill: #1967D2;\n",
              "      height: 32px;\n",
              "      padding: 0 0 0 0;\n",
              "      width: 32px;\n",
              "    }\n",
              "\n",
              "    .colab-df-convert:hover {\n",
              "      background-color: #E2EBFA;\n",
              "      box-shadow: 0px 1px 2px rgba(60, 64, 67, 0.3), 0px 1px 3px 1px rgba(60, 64, 67, 0.15);\n",
              "      fill: #174EA6;\n",
              "    }\n",
              "\n",
              "    [theme=dark] .colab-df-convert {\n",
              "      background-color: #3B4455;\n",
              "      fill: #D2E3FC;\n",
              "    }\n",
              "\n",
              "    [theme=dark] .colab-df-convert:hover {\n",
              "      background-color: #434B5C;\n",
              "      box-shadow: 0px 1px 3px 1px rgba(0, 0, 0, 0.15);\n",
              "      filter: drop-shadow(0px 1px 2px rgba(0, 0, 0, 0.3));\n",
              "      fill: #FFFFFF;\n",
              "    }\n",
              "  </style>\n",
              "\n",
              "      <script>\n",
              "        const buttonEl =\n",
              "          document.querySelector('#df-814f0cfb-84d7-4d81-93d4-e8d0eadaf8ca button.colab-df-convert');\n",
              "        buttonEl.style.display =\n",
              "          google.colab.kernel.accessAllowed ? 'block' : 'none';\n",
              "\n",
              "        async function convertToInteractive(key) {\n",
              "          const element = document.querySelector('#df-814f0cfb-84d7-4d81-93d4-e8d0eadaf8ca');\n",
              "          const dataTable =\n",
              "            await google.colab.kernel.invokeFunction('convertToInteractive',\n",
              "                                                     [key], {});\n",
              "          if (!dataTable) return;\n",
              "\n",
              "          const docLinkHtml = 'Like what you see? Visit the ' +\n",
              "            '<a target=\"_blank\" href=https://colab.research.google.com/notebooks/data_table.ipynb>data table notebook</a>'\n",
              "            + ' to learn more about interactive tables.';\n",
              "          element.innerHTML = '';\n",
              "          dataTable['output_type'] = 'display_data';\n",
              "          await google.colab.output.renderOutput(dataTable, element);\n",
              "          const docLink = document.createElement('div');\n",
              "          docLink.innerHTML = docLinkHtml;\n",
              "          element.appendChild(docLink);\n",
              "        }\n",
              "      </script>\n",
              "    </div>\n",
              "  </div>\n",
              "  "
            ]
          },
          "metadata": {},
          "execution_count": 37
        }
      ]
    },
    {
      "cell_type": "code",
      "source": [
        "# change dataframe value to numpy array\n",
        "news = df_new_cat['title'].values + '' + df_new_cat['text'].values\n",
        "label = df_new_cat[['fake', 'real']].values"
      ],
      "metadata": {
        "id": "ggWnZMYaQ0p1"
      },
      "execution_count": 38,
      "outputs": []
    },
    {
      "cell_type": "code",
      "source": [
        "# view news array\n",
        "news"
      ],
      "metadata": {
        "colab": {
          "base_uri": "https://localhost:8080/"
        },
        "id": "epntbm5gFXXl",
        "outputId": "092fbbd4-b75b-44b8-84ab-af982c16cae5"
      },
      "execution_count": 39,
      "outputs": [
        {
          "output_type": "execute_result",
          "data": {
            "text/plain": [
              "array(['you can smell hillary’s feardaniel greenfield, a shillman journalism fellow at the freedom center, is a new york writer focusing on radical islam. \\nin the final stretch of the election, hillary rodham clinton has gone to war with the fbi. \\nthe word “unprecedented” has been thrown around so often this election that it ought to be retired. but it’s still unprecedented for the nominee of a major political party to go war with the fbi. \\nbut that’s exactly what hillary and her people have done. coma patients just waking up now and watching an hour of cnn from their hospital beds would assume that fbi director james comey is hillary’s opponent in this election. \\nthe fbi is under attack by everyone from obama to cnn. hillary’s people have circulated a letter attacking comey. there are currently more media hit pieces lambasting him than targeting trump. it wouldn’t be too surprising if the clintons or their allies were to start running attack ads against the fbi. \\nthe fbi’s leadership is being warned that the entire left-wing establishment will form a lynch mob if they continue going after hillary. and the fbi’s credibility is being attacked by the media and the democrats to preemptively head off the results of the investigation of the clinton foundation and hillary clinton. \\nthe covert struggle between fbi agents and obama’s doj people has gone explosively public. \\nthe new york times has compared comey to j. edgar hoover. its bizarre headline, “james comey role recalls hoover’s fbi, fairly or not” practically admits up front that it’s spouting nonsense. the boston globe has published a column calling for comey’s resignation. not to be outdone, time has an editorial claiming that the scandal is really an attack on all women. \\njames carville appeared on msnbc to remind everyone that he was still alive and insane. he accused comey of coordinating with house republicans and the kgb. and you thought the “vast right wing conspiracy” was a stretch. \\ncountless media stories charge comey with violating procedure. do you know what’s a procedural violation? emailing classified information stored on your bathroom server. \\nsenator harry reid has sent comey a letter accusing him of violating the hatch act. the hatch act is a nice idea that has as much relevance in the age of obama as the tenth amendment. but the cable news spectrum quickly filled with media hacks glancing at the wikipedia article on the hatch act under the table while accusing the fbi director of one of the most awkward conspiracies against hillary ever. \\nif james comey is really out to hurt hillary, he picked one hell of a strange way to do it. \\nnot too long ago democrats were breathing a sigh of relief when he gave hillary clinton a pass in a prominent public statement. if he really were out to elect trump by keeping the email scandal going, why did he trash the investigation? was he on the payroll of house republicans and the kgb back then and playing it coy or was it a sudden development where vladimir putin and paul ryan talked him into taking a look at anthony weiner’s computer? \\neither comey is the most cunning fbi director that ever lived or he’s just awkwardly trying to navigate a political mess that has trapped him between a doj leadership whose political futures are tied to hillary’s victory and his own bureau whose apolitical agents just want to be allowed to do their jobs. \\nthe only truly mysterious thing is why hillary and her associates decided to go to war with a respected federal agency. most americans like the fbi while hillary clinton enjoys a 60% unfavorable rating. \\nand it’s an interesting question. \\nhillary’s old strategy was to lie and deny that the fbi even had a criminal investigation underway. instead her associates insisted that it was a security review. the fbi corrected her and she shrugged it off. but the old breezy denial approach has given way to a savage assault on the fbi. \\npretending that nothing was wrong was a bad strategy, but it was a better one that picking a fight with the fbi while lunatic clinton associates try to claim that the fbi is really the kgb. \\nthere are two possible explanations. \\nhillary clinton might be arrogant enough to lash out at the fbi now that she believes that victory is near. the same kind of hubris that led her to plan her victory fireworks display could lead her to declare a war on the fbi for irritating her during the final miles of her campaign. \\nbut the other explanation is that her people panicked. \\ngoing to war with the fbi is not the behavior of a smart and focused presidential campaign. it’s an act of desperation. when a presidential candidate decides that her only option is to try and destroy the credibility of the fbi, that’s not hubris, it’s fear of what the fbi might be about to reveal about her. \\nduring the original fbi investigation, hillary clinton was confident that she could ride it out. and she had good reason for believing that. but that hillary clinton is gone. in her place is a paranoid wreck. within a short space of time the “positive” clinton campaign promising to unite the country has been replaced by a desperate and flailing operation that has focused all its energy on fighting the fbi. \\nthere’s only one reason for such bizarre behavior. \\nthe clinton campaign has decided that an fbi investigation of the latest batch of emails poses a threat to its survival. and so it’s gone all in on fighting the fbi. it’s an unprecedented step born of fear. it’s hard to know whether that fear is justified. but the existence of that fear already tells us a whole lot. \\nclinton loyalists rigged the old investigation. they knew the outcome ahead of time as well as they knew the debate questions. now suddenly they are no longer in control. and they are afraid. \\nyou can smell the fear. \\nthe fbi has wiretaps from the investigation of the clinton foundation. it’s finding new emails all the time. and clintonworld panicked. the spinmeisters of clintonworld have claimed that the email scandal is just so much smoke without fire. all that’s here is the appearance of impropriety without any of the substance. but this isn’t how you react to smoke. it’s how you respond to a fire. \\nthe misguided assault on the fbi tells us that hillary clinton and her allies are afraid of a revelation bigger than the fundamental illegality of her email setup. the email setup was a preemptive cover up. the clinton campaign has panicked badly out of the belief, right or wrong, that whatever crime the illegal setup was meant to cover up is at risk of being exposed. \\nthe clintons have weathered countless scandals over the years. whatever they are protecting this time around is bigger than the usual corruption, bribery, sexual assaults and abuses of power that have followed them around throughout the years. this is bigger and more damaging than any of the allegations that have already come out. and they don’t want fbi investigators anywhere near it. \\nthe campaign against comey is pure intimidation. it’s also a warning. any senior fbi people who value their careers are being warned to stay away. the democrats are closing ranks around their nominee against the fbi. it’s an ugly and unprecedented scene. it may also be their last stand. \\nhillary clinton has awkwardly wound her way through numerous scandals in just this election cycle. but she’s never shown fear or desperation before. now that has changed. whatever she is afraid of, it lies buried in her emails with huma abedin. and it can bring her down like nothing else has.  ',\n",
              "       'watch the exact moment paul ryan committed political suicide at a trump rally (video)google pinterest digg linkedin reddit stumbleupon print delicious pocket tumblr \\nthere are two fundamental truths in this world: paul ryan desperately wants to be president. and paul ryan will never be president. today proved it. \\nin a particularly staggering example of political cowardice, paul ryan re-re-re-reversed course and announced that he was back on the trump train after all. this was an aboutface from where he was a few weeks ago. he had previously declared he would not be supporting or defending trump after a tape was made public in which trump bragged about assaulting women. suddenly, ryan was appearing at a pro-trump rally and boldly declaring that he already sent in his vote to make him president of the united states. it was a surreal moment. the figurehead of the republican party dosed himself in gasoline, got up on a stage on a chilly afternoon in wisconsin, and lit a match. . @speakerryan says he voted for @realdonaldtrump : “republicans, it is time to come home” https://t.co/vytt49yvoe pic.twitter.com/wcvscg4a5i \\n— abc news politics (@abcpolitics) november 5, 2016 \\nthe democratic party couldn’t have asked for a better moment of film. ryan’s chances of ever becoming president went down to zero in an instant. in the wreckage trump is to leave behind in his wake, those who cravenly backed his campaign will not recover. if ryan’s career manages to limp all the way to 2020, then the dnc will have this tape locked and loaded to be used in every ad until election day. \\nthe ringing endorsement of the man he clearly hates on a personal level speaks volumes about his own spinelessness. ryan has postured himself as a “principled” conservative, and one uncomfortable with trump’s unapologetic bigotry and sexism. however, when push came to shove, paul ryan – like many of his colleagues – turned into a sniveling appeaser. after all his lofty tak about conviction, his principles were a house of cards and collapsed with the slightest breeze. \\nwhat’s especially bizarre is how close ryan came to making it through unscathed. for months the speaker of the house refused to comment on trump at all. his strategy seemed to be to keep his head down, pretend trump didn’t exist, and hope that nobody remembered what happened in 2016. now, just days away from the election, he screwed it all up. \\nif 2016’s very ugly election has done any good it’s by exposing the utter cowardice of the republicans who once feigned moral courage. a reality television star spit on them, hijacked their party, insulted their wives, and got every last one of them to kneel before him. what a turn of events. \\nfeatured image via twitter',\n",
              "       'kerry to go to paris in gesture of sympathyu.s. secretary of state john f. kerry said monday that he will stop in paris later this week, amid criticism that no top american officials attended sunday’s unity march against terrorism.\\n\\nkerry said he expects to arrive in paris thursday evening, as he heads home after a week abroad. he said he will fly to france at the conclusion of a series of meetings scheduled for thursday in sofia, bulgaria. he plans to meet the next day with foreign minister laurent fabius and president francois hollande, then return to washington.\\n\\nthe visit by kerry, who has family and childhood ties to the country and speaks fluent french, could address some of the criticism that the united states snubbed france in its darkest hour in many years.\\n\\nthe french press on monday was filled with questions about why neither president obama nor kerry attended sunday’s march, as about 40 leaders of other nations did. obama was said to have stayed away because his own security needs can be taxing on a country, and kerry had prior commitments.\\n\\namong roughly 40 leaders who did attend was israeli prime minister benjamin netanyahu, no stranger to intense security, who marched beside hollande through the city streets. the highest ranking u.s. officials attending the march were jane hartley, the ambassador to france, and victoria nuland, the assistant secretary of state for european affairs. attorney general eric h. holder jr. was in paris for meetings with law enforcement officials but did not participate in the march.\\n\\nkerry spent sunday at a business summit hosted by india’s prime minister, narendra modi. the united states is eager for india to relax stringent laws that function as barriers to foreign investment and hopes modi’s government will act to open the huge indian market for more american businesses.\\n\\nin a news conference, kerry brushed aside criticism that the united states had not sent a more senior official to paris as “quibbling a little bit.” he noted that many staffers of the american embassy in paris attended the march, including the ambassador. he said he had wanted to be present at the march himself but could not because of his prior commitments in india.\\n\\n“but that is why i am going there on the way home, to make it crystal clear how passionately we feel about the events that have taken place there,” he said.\\n\\n“and i don’t think the people of france have any doubts about america’s understanding of what happened, of our personal sense of loss and our deep commitment to the people of france in this moment of trauma.”',\n",
              "       ...,\n",
              "       \"anti-trump protesters are tools of the oligarchy     : information anti-trump protesters are tools of the oligarchy \\x93reform always provokes rage on the part of those who profit by the old order.\\x94 arthur m. schlesinger, jr., the crisis of the old order\\nby paul craig roberts\\n who are the anti-trump protesters besmirching the name of progressives by pretending to be progressives and by refusing to accept the outcome of the presidential election? they look like, and are acting worse than, the \\x93white trash\\x94 that they are denouncing.\\ni think i know who they are. they are thugs for hire and are paid by the oligarchy to delegitimize trump\\x92s presidency in the way that washington and the german marshall fund paid students in kiev to protest the democratically elected ukrainian government in order to prepare the way for a coup.\\nthe organization, change.org, which claims to be a progressive group, but might be a front, along with other progressive groups, for the oligarchy, is destroying the reputation of all progressives by circulating a petition that directs the electors of the electoral collage to annul the election by casting their votes for hillary. remember how upset progressives were when trump said he might not accept the election result if there was evidence that the vote was rigged? now progressives are doing what they damned trump for saying he might do under certain conditions.\\nthe western presstitutes used the protests in kiev to delegitimize a democratically elected government and to set it up for a coup. the protest pay was good enough that non-ukrainians came from nearby countries to participate in the protest in order to collect the money. at the time i posted the amounts paid daily to protesters. reports came in to me from eastern and western europe from people who were not ukrainian but were paid to protest as if they were ukrainians.\\nthe same thing is going on with the trump protests. cnn reports that \\x93for many americans across the country, donald trump\\x92s victory is an outcome they simply refuse to accept. tens of thousands filled the streets in at least 25 us cities overnight.\\x94 this is the exact reporting that the oligarchy desired from its presstitutes and got.\\ni hope no one thinks that simultaneous protests in 25 cities were a spontaneous event. how did 25 independent protests manage to come up with the same slogans and the same signs on the same night following the election?\\nwhat is the point of the protests, and what interest is served by them? as the romans always asked, \\x93who benefits?\\x94\\nthere is only one answer: the oligarchy and only the oligarchy benefits.\\ntrump is a threat to the oligarchy, because he intends to stop the giveaway of american jobs to foreigners. the jobs giveaway, sanctified by the neoliberal junk economists as \\x93free trade,\\x94 is one of the main reasons for the 21st century worsening of the us income distribution. money that was formerly paid in middle class wages and salaries to american manufacturing employees and college graduates has been re-routed to the pockets of the one percent.\\nwhen us corporations move their production of goods and services sold to americans offshore to asian countries, such as china and india, their wage bill falls. the money formerly paid in middle class incomes goes instead into executive bonuses and dividends and capital gains to shareholders. the ladders of upward mobility that had made america the land of opportunity were dismantled for the sole purpose of making a handful of people multi-billionaires.\\ntrump is a threat to the oligarchy, because he intends peaceful relations with russia. in order to replace the profitable soviet threat, the oligarchy and their neoconservative agents worked overtime to recreate the \\x93russian threat\\x94 by demonizing russia.\\naccustomed to many decades of excess profits from the profitable cold war, the military/security complex was angry when president reagan brought the cold war to an end. before these leaches on american taxpayers could get the cold war going again, the soviet union collapsed as a result of a right-wing coup against soviet president mikhail gorbachev.\\nthe military/security complex and their zionist neoconservative agents cooked up \\x93the war on terror\\x94 to keep the money flowing to the one percent. but as hard as the presstitute media worked to create fear of \\x93the muslim threat,\\x94 even insouciant americans knew that the muslims did not have thousands of icbms carrying powerful thermo-nuclear weapons capable of destroying the entirety of the united states in a few minutes. neither did the muslims have the red army capable of overrunning all of europe in a couple of days. indeed, the muslims haven\\x92t needed an army. refugees from washington\\x92s wars enabled by europeans are overrunning europe.\\nthe excuse for the annual trillion dollar ($1,000 billion ) military/security budget was missing. so the oligarchy created \\x93the new hitler\\x94 in russia. hillary was the oligarchy\\x92s principle agent for heating up the new cold war.\\nhillary is the tool, enriched by the oligarchy, whose job as president was to protect and to increase the trillion dollar budget of the military/security complex. with hillary in the white house, the looting of the american taxpayers in behalf of the wealth of the one percent could go forward unimpeded. but if trump resolves \\x93the russian threat,\\x94 the oligarchy takes an income hit.\\nhillary\\x92s job as president was also to privatize social security in order that her wall street benefactors can rip off americans the way that americans have been ripped off by the insurance companies under obamacare.\\nthose americans who do not pay attention think, mistakenly, that the fbi cleared hillary of violating national security protocols with her email practices. the fbi said that hillary did violate national security, but that it was a result of carelessness or ignorance. she got off from indictment, because the fbi concluded that she did not intentionally violate national security protocols. the investigation of the clinton foundation continues.\\nin other words, in order to protect hillary the fbi fell back on the ancient common law rule that \\x93there can be no crime without intent.\\x94 (see pcr and lawrence stratton, the tyranny of good intentions .)\\none would think that protesters, if they were legitimate, would be celebrating trump\\x92s victory. he, unlike hillary, promises to reduce tensions with powerful russia, and we hope also with china. unlike hillary, trump says he is concerned with the absence of careers for those very people protesting in the streets of 25 cities against him.\\nin other words, the protests against the american people for electing trump as their president are pointless. the protests are happening for one reason only. the oligarchy intends to delegitimize the trump presidency. once president trump is delegitimized, it will be easier for the oligarchy to assassinate him. unless the oligarchy can appoint and control trump\\x92s government, trump is a prime candidate for assassination.\\nthe protests against trump are suspicious for another reason. unlike hillary, obama, and george w. bush, donald trump has not slaughtered and dislocated millions of peoples in seven countries, sending millions of refugees from the oligarchy\\x92s wars to overrun europe.\\ntrump earned his fortune, and if by hook or crook, not by selling us government influence to foreign agents as bill and hillary did.\\nso what are the protesters protesting?\\nthere is no answer except that they are hired to protest. just as the maidan protesters in kiev were hired to protest by us and german financed ngos.\\nthe protests in kiev were equally pointless, because presidential elections were only months away. if ukrainians really believed that their president was conspiring with russia to keep ukraine from becoming a western puppet state and wished to become a puppet state regardless of the costs, the opportunity to vote the government out was at hand. the only reason for the protests was to orchestrate a coup. the us did succeed in putting their agent in control of the new ukrainian government as victoria nuland and the us ambassador in kiev confirmed in their telephone conversation that is available on the internet.\\nthe maidan protests were pointless except for making a coup possible. the protests were without any doubt arranged by washington through assistant secretary of state victoria nuland, a neoconservative brought into the state department by hillary clinton for the purpose of creating conflict with russia.\\ntrump is being protested in order to make him vulnerable in the event he proves to be the threat to the oligarchy that he is thought to be.\\ntrump won the presidency, but the oligarchy is still in power, which makes any real reforms difficult to achieve. symbolic reforms can be the product of the contest between president trump and the oligarchs.\\nkarl marx learned from historical experience, and lenin, stalin, and pol pot learned from karl marx, that change cannot occur if the displaced ruling class is left intact after a revolution against them. we have proof of this throughout south america. every revolution by the indigenous people has left unmolested the spanish ruling class, and every revolution has been overthrown by collusion between the ruling class and washington.\\nwashington has conspired with traditional elites to remove the elected presidents of honduras on a number of occasions. recently, washington helped elites evict the female presidents of argentina and brazil. the presidents of venezuela, ecuador, and bolivia are in the crosshairs and are unlikely to survive. washington is determined to get its hands on julian assange. to achieve this washington intends to overthrow the ecuadoran government that, in defiance of washington, gave julian assange political asylum.\\nhugo chavez had the power to exile or to exterminate the spanish ruling class in venezuela when the ruling class participated in a cia coup against chavez. but before the cia could kill chavez, the people and the military forced his release. instead of punishing the criminals who would have murdered him, chavez let them go.\\naccording to marx, lenin, and stalin, this is the classic mistake of the revolutionary. to rely on good will from the overthrown ruling class is the certain road to the defeat of the revolution.\\nlatin american has proved itself unable to learn this lesson: revolutions cannot be conciliatory.\\ntrump is a dealmaker. the oligarchy can permit him the sheen of success in exchange for no real change.\\ntrump is not perfect. he might fail on his own. but we should back him on the two most important elements in his program: to reduce tensions between the major nuclear powers, and to halt washington\\x92s policy of permitting globalism to destroy americans\\x92 economic prospects.\\nif tensions between nuclear powers worsen, we won\\x92t be here to worry about other problems. the combination of the economy hollowed out by globalism and immigration is an economic nightmare. that trump understands this is reason to support him.\\nnote: some believe that trump is a ruse conducted by the oligarchy. however, as hillary is the bought-and-paid-for representative of the oligarchy, such an elaborate ruse is unnecessary. it is preferable for the oligarchy to win on its own platform than to install a president on the opposite platform and then change him around. another sellout increases the anger of the people. if hillary had won, the oligarchy would have had the voters\\x92 mandate for their platform.\\ndr. paul craig roberts was assistant secretary of the treasury for economic policy and associate editor of the wall street journal. he was columnist for business week, scripps howard news service, and creators syndicate. he has had many university appointments. his internet columns have attracted a worldwide following. roberts' latest books are the failure of laissez faire capitalism and economic dissolution of the west , how america was lost , and the neoconservative threat to world order .\",\n",
              "       'in ethiopia, obama seeks progress on peace, security in east africaaddis ababa, ethiopia —president obama convened a meeting with the leaders of several east african nations and the african union on monday in an effort to address the worsening situation in south sudan, even as he met with ethiopia’s prime minister to discuss how to strengthen human rights and democratic institutions here.\\n\\nwith no resolution in sight for the ongoing conflict in south sudan, obama brought together top officials from ethiopia, uganda, kenya, sudan and the a.u. to chart out a strategy in the event that the latest round of peace talks fail.\\n\\nafrican nations, led by ethiopia, have been trying to broker a peace in south sudan through the intergovernmental authority on development (igad), a regional body, and are almost ready to present a possible compromise to the warring parties. the two sides will have until aug. 17 to respond to the proposal, but administration officials have little expectation that they will accept it.\\n\\non monday, obama praised the regional leaders for showing “extraordinary leadership in trying to address the continuing situation in south sudan.” the group included ethiopian prime minister hailemariam desalegn, ugandan president yoweri museveni, kenyan president uhuru kenyatta, african union chairperson dlamini zuma and sudan’s minister of foreign affairs, ibrahim ghandour.\\n\\n“this gives me and the u.s. delegation an opportunity to learn from them what progress has been made, where there appears to be continued roadblocks and how we can partner with them to make progress,” obama said. “our hope is that we can actually bring about the kind of peace that the people of south sudan so desperately need.”\\n\\nthe question of south sudan — a nation that the united states helped bring into existence in 2011 after years of effort by both the george w. bush and obama administrations — has vexed american policymakers for years.\\n\\nin december 2013, south sudan president salva kiir accused riek machar, who had served as his vice president, of attempting a coup d’etat. the two had been longtime political rivals from different ethnic groups — kiir is dinka, machar is a nuer — who had come together to form a government when the country was first created.\\n\\nwhile tribal differences have helped fuel the conflict, the war has been largely focused on control of the nation’s oil fields, south sudan’s primary source of revenue.\\n\\nprinceton lyman, u.s. special envoy for sudan and south sudan from 2011 to 2013, noted that when he first took over as envoy, the united states had spent $10 billion on peacekeeping and other assistance for the two nations, “and that was four years ago… this is a big investment,” he added.\\n\\nat this point, more than 2.5 million people are facing food shortages, while roughly 1.5 million are displaced from their homes. an additional 520,000 south sudanese have fled across the border into neighboring countries, including ethiopia.\\n\\nthe conflict also poses a major economic problem for kenya, which had major investments in south sudan before the fighting broke out. the lapsset corridor project was aimed at transporting oil from south sudan to the kenyan port of lamu, and according to e.j. hogendoorn, deputy program director for africa at the international crisis group, the planned transportation and infrastructure development could have been an “engine of development\" for many parts of east africa. \"unfortunately, of course, that’s on hold because of the war,” he said.\\n\\nwhile obama spent part of the afternoon addressing a regional conflict in africa, he devoted the rest of the day to strengthening ties with ethiopia, whose alliance with the united states dates back more than a century. but the current government has come under sharp criticism for its treatment of political opponents and journalists.\\n\\nobama is the first sitting u.s. president to visit ethiopia.\\n\\nin a news conference monday afternoon, both obama and hailemariam said they had a frank discussion about ethiopia\\'s human rights practices and the need for improvement. ethiopia is africa’s number two jailer of journalists, according to the committee to protect journalists, and its ruling party won 100 percent of the seats in may’s parliamentary elections.\\n\\nwhite house national security adviser susan rice, asked last week whether she considered ethiopia a democracy, replied, with irony: “one hundred percent.”\\n\\nbut during the news conference obama twice referred to the ethiopian government as “democratically elected.”\\n\\n“i don’t bite my tongue,” obama said of raising concerns on these issues with ethiopia. “but i do so from a position of respect.”\\n\\nhailemariam, for his part, said, “our commitment to democracy is real, not skin deep.”\\n\\nbut he added later that people could not expect sweeping reforms given the fact that military rule ended just a couple of decades ago. “something has to be understood: this is a fledgling democracy.”\\n\\nthe two leaders also discussed their collaboration on counterterrorism, an area in which ethiopia has been an active leader. the white house announced monday it will “work with congress to provide approximately $465 million” this year in new training, equipment and capacity-building aid to its african allies.\\n\\nthe administration also said it would provide at least $40 million in assistance this fiscal year to combat violent extremism in east africa. the money is intended to foster collaboration among security forces, law enforcement, government officials, community leaders and members of civil society, officials said.\\n\\nobama praised ethiopia’s work to curb extremist activity but noted that its government had labeled some opposition groups as posing a greater threat than u.s. intelligence would indicate. “our intelligence indicates while they may oppose the government, they have not tipped into terrorism,” he said.\\n\\nthe united states provides more than $600 million in\\xa0assistance to ethiopia annually. the vast bulk of that — $490 million — comes from the u.s. agency for international development, while the rest is largely security-related. last fiscal year, nearly $200 million went to health programs, while $163 million went to humanitarian aid.\\n\\nobama said ethiopia “has proven itself a global leader” on development and over the past 15 years “has lifted millions of people out of poverty.”\\n\\n“to many people around the world, their image of ethiopia remains stuck in the past, remembering drought and famine,” he said.\\n\\nthe two leaders appeared to have a friendly rapport throughout the news conference. hailemariam described his country as scoring a series of firsts: along with being “the cradle of mankind,” he said, “ethiopia is the birthplace of coffee.” that elicited a smile from obama.\\n\\nobama said he was impressed by the ethiopian’s unusual pets. “i had a chance to see the famous lions that live on the grounds,\" he said. \"i’m considering getting some for the white house.” but he conceded that before he did that, “i’ll have to make sure my dogs are safe.”',\n",
              "       'jeb bush is suddenly attacking trump. here\\'s why that mattersjeb bush is suddenly attacking trump. here\\'s why that matters\\n\\njeb bush isn\\'t pulling punches anymore when it comes to donald trump.\\n\\nthe former florida governor has delicately danced around the billionaire businessman in the 2016 presidential primary so far. but the gloves came off this week when bush called out trump as a closet democrat. he was trying to stunt trump\\'s rise while attempting to recover his own political mojo.\\n\\n\"what jeb is desperately trying to do is find his swagger right now,\" gop strategist ford o\\'connell said. \"the knock against jeb is that he\\'s low voltage and not willing to fight. the best way to shake those perceptions it to engage against the person who is in the media on a 24/7 loop.\"\\n\\nit\\'s a change from bush\\'s approach to this point. he hasn\\'t lobbed many direct attacks at trump other than delicately condemning his criticism of arizona sen. john mccain\\'s war service and his attacks against fox news\\' megyn kelly.\\n\\neven in this month\\'s first debate, bush swatted down a story that he had allegedly called trump a \"buffoon\" and a \"clown,\" saying only that trump\\'s language had been \"divisive.\" trump called bush \"a true gentleman.\"\\n\\nthe detente ended this week. so far, most of the top-tier candidates have avoided directly attacking trump, treating him with kid gloves so as not to anger the part of the gop base to which trump appeals.\\n\\nin other words, the very voters they need when, they hope, trump fades.\\n\\nin split-screen new hampshire town halls this week, bush and trump volleyed attacks on each other. bush took his most pointed jabs at the current front-runner, underscoring trump\\'s past history as a democrat and the liberal positions he used to hold.\\n\\n\"mr. trump doesn\\'t have a proven conservative record,\" bush said, according to the washington post. \"he was a democrat longer in the last decade than he was a republican. he has given more money to democrats than he\\'s given to republicans.\"\\n\\nbush went on to attack trump over his hard-line immigration proposal, arguing it was not just \"vitriolic\" but would have a massive price tag.\\n\\n\"hundreds of billions of dollars of costs to implement his plans is not a conservative plan,\" bush said. \"this is going to be my pitch: let\\'s support someone who you don\\'t have to guess where he stands because he\\'s consistent, because he\\'s been governor, he\\'s consistently had the views that he has.\"\\n\\nover the next few days, bush continued the hits on social media.\\n\\nbut trump, never one to miss a moment to retaliate, didn\\'t pull his punches, either. at his own town hall wednesday, trump blasted bush as an unelectable \"low-energy person.\"\\n\\n\"you know what\\'s happening to jeb\\'s crowd just down the street? they\\'re sleeping!\" trump said to applause.\\n\\nsince then, trump has also ramped up his attacks against bush on twitter.\\n\\nthe move to more hot rhetoric may have tripped bush up, though. consider his use of the phrase \"anchor babies.\" while immigration reform is something bush is passionate about — and has even written a book about — he\\'s often criticized within the gop as too liberal on the issue. instead, a more combative bush appeared to use the loaded phrase for the first time.\\n\\nhe was left struggling to defend his use of it. it may have been a signal that the attack-dog crouch he\\'s taking is still one that isn\\'t completely comfortable to bush, who earlier said he wanted to campaign \"joyfully.\"\\n\\nother candidates have embraced hitting trump. kentucky sen. rand paul went after him forcefully in the debate, though his punch — that trump was hedging his bets to support hillary clinton if she wins the presidency — didn\\'t appear to land.\\n\\nother candidates like ohio gov. john kasich demurred. in the earlier gop debate that night, former texas gov. rick perry and businesswoman carly fiorina also jabbed at trump.\\n\\nbush, though, needs to close the floodgates. he\\'s dropped in national polls as trump has risen. and, in new hampshire, where bush once led, trump and even newcomer kasich have seen surges.\\n\\ncullen, a former new hampshire gop chairman, said the change in tone and tactics was a smart move for bush, one that could help him in the granite state.\\n\\n\"i think it\\'s good politics for jeb,\" said fergus cullen, a former new hampshire republican party chairman. \"there\\'s 25 percent of the republicans who are entertained by donald trump. but there\\'s 60 percent of the party who say they won\\'t vote for him under any circumstances. those aren\\'t jeb bush\\'s people to begin with. he\\'s trying to appeal to the other 60 percent by being the adult in the room and trying to govern.\"\\n\\no\\'connell agreed. he pointed out that even if this new approach is one that\\'s uncomfortable for bush, it\\'s necessary.\\n\\n\"in a lot of elections, being the studious one would have worked,\" he said, \"but trump has flipped the script.\"'],\n",
              "      dtype=object)"
            ]
          },
          "metadata": {},
          "execution_count": 39
        }
      ]
    },
    {
      "cell_type": "code",
      "source": [
        "# view label array\n",
        "label"
      ],
      "metadata": {
        "colab": {
          "base_uri": "https://localhost:8080/"
        },
        "id": "BNxCBwObFa5q",
        "outputId": "5898fa10-f801-4d93-9d6e-1acf51c3b093"
      },
      "execution_count": 40,
      "outputs": [
        {
          "output_type": "execute_result",
          "data": {
            "text/plain": [
              "array([[1, 0],\n",
              "       [1, 0],\n",
              "       [0, 1],\n",
              "       ...,\n",
              "       [1, 0],\n",
              "       [0, 1],\n",
              "       [0, 1]], dtype=uint8)"
            ]
          },
          "metadata": {},
          "execution_count": 40
        }
      ]
    },
    {
      "cell_type": "code",
      "source": [
        "# Split data into training and validation\n",
        "from sklearn.model_selection import train_test_split\n",
        "news_train, news_test, label_train, label_test = train_test_split(news, label, test_size=0.2, shuffle=True)"
      ],
      "metadata": {
        "id": "lr3IE7CqFeES"
      },
      "execution_count": 41,
      "outputs": []
    },
    {
      "cell_type": "code",
      "source": [
        "# tokenizer\n",
        "from tensorflow.keras.preprocessing.text import Tokenizer\n",
        "from tensorflow.keras.preprocessing.sequence import pad_sequences\n",
        " \n",
        "tokenizer = Tokenizer(num_words=5000, oov_token='x', filters='!\"#$%&()*+,-./:;<=>@[\\]^_`{|}~ ')\n",
        "tokenizer.fit_on_texts(news_train) \n",
        "tokenizer.fit_on_texts(news_test)\n",
        " \n",
        "sequence_train = tokenizer.texts_to_sequences(news_train)\n",
        "sequence_test = tokenizer.texts_to_sequences(news_test)\n",
        " \n",
        "padded_train = pad_sequences(sequence_train) \n",
        "padded_test = pad_sequences(sequence_test)"
      ],
      "metadata": {
        "id": "VAqIWACrFgpY"
      },
      "execution_count": 42,
      "outputs": []
    },
    {
      "cell_type": "code",
      "source": [
        "# model\n",
        "import tensorflow as tf\n",
        "model = tf.keras.Sequential([\n",
        "    tf.keras.layers.Embedding(input_dim=5000, output_dim=64),\n",
        "    tf.keras.layers.LSTM(128),\n",
        "    tf.keras.layers.Dense(128, activation='relu'),\n",
        "    tf.keras.layers.Dropout(0.5),\n",
        "    tf.keras.layers.Dense(2, activation='softmax')\n",
        "])\n",
        "model.compile(optimizer='adam', metrics=['accuracy'], loss='categorical_crossentropy',)\n",
        "model.summary()"
      ],
      "metadata": {
        "colab": {
          "base_uri": "https://localhost:8080/"
        },
        "id": "rHijG-wPFmaG",
        "outputId": "a3c555b4-ec55-4820-b530-280dc3d35a51"
      },
      "execution_count": 43,
      "outputs": [
        {
          "output_type": "stream",
          "name": "stdout",
          "text": [
            "Model: \"sequential\"\n",
            "_________________________________________________________________\n",
            " Layer (type)                Output Shape              Param #   \n",
            "=================================================================\n",
            " embedding (Embedding)       (None, None, 64)          320000    \n",
            "                                                                 \n",
            " lstm (LSTM)                 (None, 128)               98816     \n",
            "                                                                 \n",
            " dense (Dense)               (None, 128)               16512     \n",
            "                                                                 \n",
            " dropout (Dropout)           (None, 128)               0         \n",
            "                                                                 \n",
            " dense_1 (Dense)             (None, 2)                 258       \n",
            "                                                                 \n",
            "=================================================================\n",
            "Total params: 435,586\n",
            "Trainable params: 435,586\n",
            "Non-trainable params: 0\n",
            "_________________________________________________________________\n"
          ]
        }
      ]
    },
    {
      "cell_type": "code",
      "source": [
        "# callback\n",
        "class myCallback(tf.keras.callbacks.Callback):\n",
        "  def on_epoch_end(self, epoch, logs={}):\n",
        "    if(logs.get('accuracy')>0.9 and logs.get('val_accuracy')>0.9):\n",
        "      self.model.stop_training = True\n",
        "      print(\"\\nThe accuracy of the training set and the validation set has reached > 90%!\")\n",
        "callbacks = myCallback()"
      ],
      "metadata": {
        "id": "NpOAYuBpTc78"
      },
      "execution_count": 44,
      "outputs": []
    },
    {
      "cell_type": "code",
      "source": [
        "# model fit\n",
        "history = model.fit(padded_train, \n",
        "                    label_train, \n",
        "                    epochs=50, \n",
        "                    validation_data=(padded_test, label_test), \n",
        "                    verbose=2, \n",
        "                    callbacks=[callbacks], \n",
        "                    validation_steps=30)"
      ],
      "metadata": {
        "colab": {
          "base_uri": "https://localhost:8080/"
        },
        "id": "2fm1j9AWFyzS",
        "outputId": "18de8e59-926a-4b38-a3cd-1c848360cb2f"
      },
      "execution_count": 47,
      "outputs": [
        {
          "output_type": "stream",
          "name": "stdout",
          "text": [
            "Epoch 1/50\n",
            "159/159 - 154s - loss: 0.4626 - accuracy: 0.7930 - val_loss: 0.5564 - val_accuracy: 0.7080 - 154s/epoch - 968ms/step\n",
            "Epoch 2/50\n",
            "159/159 - 152s - loss: 0.3403 - accuracy: 0.8625 - val_loss: 0.3674 - val_accuracy: 0.8358 - 152s/epoch - 958ms/step\n",
            "Epoch 3/50\n",
            "159/159 - 155s - loss: 0.1858 - accuracy: 0.9329 - val_loss: 0.3574 - val_accuracy: 0.8477 - 155s/epoch - 976ms/step\n",
            "Epoch 4/50\n",
            "159/159 - 154s - loss: 0.1156 - accuracy: 0.9576 - val_loss: 0.3068 - val_accuracy: 0.8990 - 154s/epoch - 971ms/step\n",
            "Epoch 5/50\n",
            "159/159 - 154s - loss: 0.0657 - accuracy: 0.9775 - val_loss: 0.3879 - val_accuracy: 0.8556 - 154s/epoch - 971ms/step\n",
            "Epoch 6/50\n",
            "159/159 - 156s - loss: 0.0242 - accuracy: 0.9933 - val_loss: 0.4362 - val_accuracy: 0.8895 - 156s/epoch - 980ms/step\n",
            "Epoch 7/50\n",
            "\n",
            "The accuracy of the training set and the validation set has reached > 90%!\n",
            "159/159 - 155s - loss: 0.0142 - accuracy: 0.9957 - val_loss: 0.5078 - val_accuracy: 0.9006 - 155s/epoch - 974ms/step\n"
          ]
        }
      ]
    },
    {
      "cell_type": "code",
      "source": [
        "# plot of accuracy\n",
        "import matplotlib.pyplot as plt\n",
        "plt.plot(history.history['accuracy'])\n",
        "plt.plot(history.history['val_accuracy'])\n",
        "plt.title('Model Accuracy')\n",
        "plt.ylabel('accuracy')\n",
        "plt.xlabel('epoch')\n",
        "plt.legend(['train', 'test'], loc='upper left')\n",
        "plt.show()"
      ],
      "metadata": {
        "id": "8S_lnYmyTnZn",
        "colab": {
          "base_uri": "https://localhost:8080/",
          "height": 295
        },
        "outputId": "ec524679-4908-4556-d04b-1ae7d1cf8e61"
      },
      "execution_count": 48,
      "outputs": [
        {
          "output_type": "display_data",
          "data": {
            "text/plain": [
              "<Figure size 432x288 with 1 Axes>"
            ],
            "image/png": "[encoded data removed]"
          },
          "metadata": {
            "needs_background": "light"
          }
        }
      ]
    },
    {
      "cell_type": "code",
      "source": [
        "# plot of loss\n",
        "plt.plot(history.history['loss'])\n",
        "plt.plot(history.history['val_loss'])\n",
        "plt.title('Model Loss')\n",
        "plt.ylabel('loss')\n",
        "plt.xlabel('epoch')\n",
        "plt.legend(['train', 'test'], loc='upper left')\n",
        "plt.show()"
      ],
      "metadata": {
        "id": "1fH_cVZOToLr",
        "colab": {
          "base_uri": "https://localhost:8080/",
          "height": 295
        },
        "outputId": "edbc0095-8c25-455c-c0e9-1279d676f6bd"
      },
      "execution_count": 49,
      "outputs": [
        {
          "output_type": "display_data",
          "data": {
            "text/plain": [
              "<Figure size 432x288 with 1 Axes>"
            ],
            "image/png": "[encoded data removed]"
          },
          "metadata": {
            "needs_background": "light"
          }
        }
      ]
    }
  ]
}